{
 "cells": [
  {
   "cell_type": "markdown",
   "metadata": {},
   "source": [
    "## How to do some GIS using Geopandas: \n",
    "#### An introduction for novices, by a novice. \n",
    "***Purpose:*** To showcase a clean Jupyter notebook that outputs webmap-ready data (GeoJSON).  This notebook will incorporate Geopandas, and a variety of other Python libraries to import, wrangle, analyze, and export data within a typical data-viz and mapping workflow."
   ]
  },
  {
   "cell_type": "markdown",
   "metadata": {},
   "source": [
    "###### Created by Ritchie Katko (rakatk0@uky.edu) for [UKy Geography's New Maps Plus](http://newmapsplus.uky.edu/) MAP674 Fall 2019"
   ]
  },
  {
   "cell_type": "markdown",
   "metadata": {},
   "source": [
    "##### Objective: \n",
    "This notebook will fulfill its purpose through the exploration of New York City Police Department's [\"Stop, Question, Frisk\" Data](https://www1.nyc.gov/site/nypd/stats/reports-analysis/stopfrisk.page) for the year 2016.  This data originates as a CSV, projected in [EPSG:2263 NAD83 / New York Long Island (ftUS)](https://epsg.io/2263). It will have to be cleaned up and reprojected to be ready for analysis against other geospatial data (see below).\n",
    "\n",
    "Please note the following: The data wrangling and analysis performed in this notebook is intended to function as a geopandas tutorial, rather than as a piece of data-journalism. \n",
    "\n",
    "Data utilized in this notebook: \n",
    "- [NYC Borough Boundaries](https://data.cityofnewyork.us/City-Government/Borough-Boundaries/tqmj-j8zm)\n",
    "- [NYPD Precinct Boundaries](https://data.cityofnewyork.us/Public-Safety/Police-Precincts/78dh-3ptz)\n",
    "- [NYC Census Block Boundaries](https://data.cityofnewyork.us/City-Government/2010-Census-Blocks/v2h8-6mxf)\n",
    "- [DSNY Graffiti Locations](https://data.cityofnewyork.us/City-Government/DSNY-Graffiti-Tracking/gpwd-npar)\n",
    "- [NYC Bus Stop Shelter Locations](https://data.cityofnewyork.us/Transportation/Bus-Stop-Shelters/qafz-7myz)\n"
   ]
  },
  {
   "cell_type": "markdown",
   "metadata": {},
   "source": [
    "#### Setting up the environment\n",
    "Here's my background specs: \n",
    "- ***OS***: Ubuntu 16.04.6 LTS\n",
    "- ***Python version***: `$ /usr/bin/python3 -V` 3.5.2\n",
    "- ***Anaconda3 version***: `$ conda info` 4.5.11\n",
    "\n",
    "###### Conda Environment \n",
    "The following packages must be installed (`$ conda install`) into the active Conda environment:\n",
    "- `Jupyter` (allows use of jupyter coding environment\n",
    "- `Geopandas` (integrates other packages geospatial components) \n",
    "- `Matplotlib` (dataviz package - allows plotting of visualizations)\n",
    "\n",
    "##### after activating the Conda Environment of choice, navigate to the working directory and run `jupyter notebook` to initiate the browser-based notebook environment.  \n",
    "\n",
    "##### Now, let's get to work: "
   ]
  },
  {
   "cell_type": "markdown",
   "metadata": {},
   "source": [
    "##### Add packages to allow for their use in this environment"
   ]
  },
  {
   "cell_type": "code",
   "execution_count": 1,
   "metadata": {},
   "outputs": [],
   "source": [
    "# import packages, using aliases to simplify code\n",
    "import pandas as pd\n",
    "import numpy as np"
   ]
  },
  {
   "cell_type": "markdown",
   "metadata": {},
   "source": [
    "##### load local data\n",
    "    load csv into notebook as dataframe 'df'.  using `type()` will return the type of data. "
   ]
  },
  {
   "cell_type": "code",
   "execution_count": 2,
   "metadata": {},
   "outputs": [
    {
     "data": {
      "text/plain": [
       "pandas.core.frame.DataFrame"
      ]
     },
     "execution_count": 2,
     "metadata": {},
     "output_type": "execute_result"
    }
   ],
   "source": [
    "# load csv into notebook as dataframe 'df', and check the data  \n",
    "path_to_file = './data/sqf-2016.csv'\n",
    "# url version: path_to_file = 'https://www1.nyc.gov/assets/nypd/downloads/excel/analysis_and_planning/stop-question-frisk/sqf-2016.csv'\n",
    "\n",
    "df = pd.read_csv(path_to_file,  dtype = str) # load csv data as pandas DataFrame, load # dtype = str, \n",
    "type(df)"
   ]
  },
  {
   "cell_type": "markdown",
   "metadata": {},
   "source": [
    "##### take a look at the data, from a few angles"
   ]
  },
  {
   "cell_type": "code",
   "execution_count": 3,
   "metadata": {
    "scrolled": true
   },
   "outputs": [
    {
     "data": {
      "text/plain": [
       "((12405, 112),\n",
       "       year  pct ser_num datestop timestop recstat inout trhsloc perobs  \\\n",
       " 9988  2016  113     107  8182016     2339       A     O       P   3.00   \n",
       " \n",
       "          crimsusp  ... zip addrpct sector beat post   xcoord   ycoord  \\\n",
       " 9988  MISDEMEANOR  ...         113      B            1053088   187992   \n",
       " \n",
       "      dettypCM lineCM detailCM  \n",
       " 9988       CM      1       20  \n",
       " \n",
       " [1 rows x 112 columns])"
      ]
     },
     "execution_count": 3,
     "metadata": {},
     "output_type": "execute_result"
    }
   ],
   "source": [
    "df.shape, df.sample(1)  # shape will return the number of rows, and columns.  .sample() will return a random row"
   ]
  },
  {
   "cell_type": "code",
   "execution_count": 4,
   "metadata": {},
   "outputs": [
    {
     "data": {
      "text/plain": [
       "(   year pct ser_num datestop timestop recstat inout trhsloc perobs  \\\n",
       " 0  2016  41      22  2072016      100       A     O       P   1.00   \n",
       " 1  2016  10      22  2182016       30       1     O       P   8.00   \n",
       " 2  2016  66       1  1012016       30       1     I       P   2.00   \n",
       " 3  2016  47      18  1012016       40       1     O       H   1.00   \n",
       " 4  2016  79       1  1012016       50       1     O       P   3.00   \n",
       " \n",
       "       crimsusp  ... zip addrpct sector beat post   xcoord   ycoord dettypCM  \\\n",
       " 0         BURG  ...          41      B    2       1013353   234000       CM   \n",
       " 1  MISDEMEANOR  ...          10      D             983478   212373       CM   \n",
       " 2          FEL  ...          66      F             988340   172111       CM   \n",
       " 3          FEL  ...          47      C                                   CM   \n",
       " 4       D.W.I.  ...          79      G    4        998197   187413       CM   \n",
       " \n",
       "   lineCM detailCM  \n",
       " 0      1       14  \n",
       " 1      1       28  \n",
       " 2      1        9  \n",
       " 3      1       20  \n",
       " 4      1      112  \n",
       " \n",
       " [5 rows x 112 columns],\n",
       "        year  pct ser_num  datestop timestop recstat inout trhsloc perobs  \\\n",
       " 12400  2016  123      89  12022016     1847       1     O       P   1.00   \n",
       " 12401  2016  123      90  12022016      255       1     O       P   5.00   \n",
       " 12402  2016  123      91  12042016     2225       1     O       P   2.00   \n",
       " 12403  2016  123      92  11222016     2212       1     O       P   1.00   \n",
       " 12404                                                                      \n",
       " \n",
       "       crimsusp  ... zip addrpct sector beat post   xcoord   ycoord dettypCM  \\\n",
       " 12400      FEL  ...         123      G             935054   136263       CM   \n",
       " 12401     MISD  ...         123      B             917943   127951       CM   \n",
       " 12402     MISD  ...         123      C             930949   133127       CM   \n",
       " 12403     MISD  ...         123      F             939042   132823       CM   \n",
       " 12404           ...                                                           \n",
       " \n",
       "       lineCM detailCM  \n",
       " 12400      1        9  \n",
       " 12401      1       80  \n",
       " 12402      1       68  \n",
       " 12403      1       20  \n",
       " 12404                  \n",
       " \n",
       " [5 rows x 112 columns])"
      ]
     },
     "execution_count": 4,
     "metadata": {},
     "output_type": "execute_result"
    }
   ],
   "source": [
    "df.head(), df.tail()"
   ]
  },
  {
   "cell_type": "code",
   "execution_count": 5,
   "metadata": {},
   "outputs": [
    {
     "data": {
      "text/plain": [
       "['year',\n",
       " 'pct',\n",
       " 'ser_num',\n",
       " 'datestop',\n",
       " 'timestop',\n",
       " 'recstat',\n",
       " 'inout',\n",
       " 'trhsloc',\n",
       " 'perobs',\n",
       " 'crimsusp',\n",
       " 'perstop',\n",
       " 'typeofid',\n",
       " 'explnstp',\n",
       " 'othpers',\n",
       " 'arstmade',\n",
       " 'arstoffn',\n",
       " 'sumissue',\n",
       " 'sumoffen',\n",
       " 'compyear',\n",
       " 'comppct',\n",
       " 'offunif',\n",
       " 'officrid',\n",
       " 'frisked',\n",
       " 'searched',\n",
       " 'contrabn',\n",
       " 'adtlrept',\n",
       " 'pistol',\n",
       " 'riflshot',\n",
       " 'asltweap',\n",
       " 'knifcuti',\n",
       " 'machgun',\n",
       " 'othrweap',\n",
       " 'pf_hands',\n",
       " 'pf_wall',\n",
       " 'pf_grnd',\n",
       " 'pf_drwep',\n",
       " 'pf_ptwep',\n",
       " 'pf_baton',\n",
       " 'pf_hcuff',\n",
       " 'pf_pepsp',\n",
       " 'pf_other',\n",
       " 'radio',\n",
       " 'ac_rept',\n",
       " 'ac_inves',\n",
       " 'rf_vcrim',\n",
       " 'rf_othsw',\n",
       " 'ac_proxm',\n",
       " 'rf_attir',\n",
       " 'cs_objcs',\n",
       " 'cs_descr',\n",
       " 'cs_casng',\n",
       " 'cs_lkout',\n",
       " 'rf_vcact',\n",
       " 'cs_cloth',\n",
       " 'cs_drgtr',\n",
       " 'ac_evasv',\n",
       " 'ac_assoc',\n",
       " 'cs_furtv',\n",
       " 'rf_rfcmp',\n",
       " 'ac_cgdir',\n",
       " 'rf_verbl',\n",
       " 'cs_vcrim',\n",
       " 'cs_bulge',\n",
       " 'cs_other',\n",
       " 'ac_incid',\n",
       " 'ac_time',\n",
       " 'rf_knowl',\n",
       " 'ac_stsnd',\n",
       " 'ac_other',\n",
       " 'sb_hdobj',\n",
       " 'sb_outln',\n",
       " 'sb_admis',\n",
       " 'sb_other',\n",
       " 'repcmd',\n",
       " 'revcmd',\n",
       " 'rf_furt',\n",
       " 'rf_bulg',\n",
       " 'offverb',\n",
       " 'offshld',\n",
       " 'forceuse',\n",
       " 'sex',\n",
       " 'race',\n",
       " 'dob',\n",
       " 'age',\n",
       " 'ht_feet',\n",
       " 'ht_inch',\n",
       " 'weight',\n",
       " 'haircolr',\n",
       " 'eyecolor',\n",
       " 'build',\n",
       " 'othfeatr',\n",
       " 'addrtyp',\n",
       " 'rescode',\n",
       " 'premtype',\n",
       " 'premname',\n",
       " 'addrnum',\n",
       " 'stname',\n",
       " 'stinter',\n",
       " 'crossst',\n",
       " 'aptnum',\n",
       " 'city',\n",
       " 'state',\n",
       " 'zip',\n",
       " 'addrpct',\n",
       " 'sector',\n",
       " 'beat',\n",
       " 'post',\n",
       " 'xcoord',\n",
       " 'ycoord',\n",
       " 'dettypCM',\n",
       " 'lineCM',\n",
       " 'detailCM']"
      ]
     },
     "execution_count": 5,
     "metadata": {},
     "output_type": "execute_result"
    }
   ],
   "source": [
    "list(df.columns) # take a look at all the columns"
   ]
  },
  {
   "cell_type": "markdown",
   "metadata": {},
   "source": [
    "##### are there any columns we don't care about that can be removed?   \n",
    "This dataset has granular detail on 12000+ incidents.  Let's simplify this. Taking a look at a key provided for this data, there are a  "
   ]
  },
  {
   "cell_type": "code",
   "execution_count": 6,
   "metadata": {},
   "outputs": [],
   "source": [
    "df = df.drop(columns=['year',\n",
    " 'ser_num',\n",
    " 'recstat',\n",
    " 'inout',\n",
    " 'trhsloc',\n",
    " 'perobs',\n",
    " 'perstop',\n",
    " 'typeofid',\n",
    " 'explnstp',\n",
    " 'othpers',\n",
    " 'compyear',\n",
    " 'comppct',\n",
    " 'offunif',\n",
    " 'officrid',\n",
    " 'adtlrept',\n",
    " 'riflshot',\n",
    " 'asltweap',\n",
    " 'machgun',\n",
    " 'othrweap',\n",
    " 'radio',\n",
    " 'ac_rept',\n",
    " 'ac_inves',\n",
    " 'rf_vcrim',\n",
    " 'rf_othsw',\n",
    " 'ac_proxm',\n",
    " 'rf_attir',\n",
    " 'cs_objcs',\n",
    " 'cs_descr',\n",
    " 'cs_casng',\n",
    " 'cs_lkout',\n",
    " 'rf_vcact',\n",
    " 'cs_cloth',\n",
    " 'cs_drgtr',\n",
    " 'ac_evasv',\n",
    " 'ac_assoc',\n",
    " 'cs_furtv',\n",
    " 'rf_rfcmp',\n",
    " 'ac_cgdir',\n",
    " 'rf_verbl',\n",
    " 'cs_vcrim',\n",
    " 'cs_bulge',\n",
    " 'cs_other',\n",
    " 'ac_incid',\n",
    " 'ac_time',\n",
    " 'rf_knowl',\n",
    " 'ac_stsnd',\n",
    " 'ac_other',\n",
    " 'sb_hdobj',\n",
    " 'sb_outln',\n",
    " 'sb_admis',\n",
    " 'sb_other',\n",
    " 'repcmd',\n",
    " 'revcmd',\n",
    " 'rf_furt',\n",
    " 'rf_bulg',\n",
    " 'offverb',\n",
    " 'offshld',\n",
    " 'forceuse',\n",
    " 'dob',\n",
    " 'ht_feet',\n",
    " 'ht_inch',\n",
    " 'weight',\n",
    " 'haircolr',\n",
    " 'eyecolor',\n",
    " 'build',\n",
    " 'othfeatr',\n",
    " 'addrtyp',\n",
    " 'rescode',\n",
    " 'premtype',\n",
    " 'premname',\n",
    " 'addrnum',\n",
    " 'stname',\n",
    " 'stinter',\n",
    " 'crossst',\n",
    " 'aptnum',\n",
    " 'city',\n",
    " 'state',\n",
    " 'zip',\n",
    " 'addrpct',\n",
    " 'sector',\n",
    " 'beat',\n",
    " 'post',\n",
    " 'dettypCM',\n",
    " 'lineCM',\n",
    " 'detailCM'])"
   ]
  },
  {
   "cell_type": "code",
   "execution_count": 7,
   "metadata": {},
   "outputs": [
    {
     "data": {
      "text/plain": [
       "str"
      ]
     },
     "execution_count": 7,
     "metadata": {},
     "output_type": "execute_result"
    }
   ],
   "source": [
    "type(df.arstmade[0])"
   ]
  },
  {
   "cell_type": "code",
   "execution_count": 8,
   "metadata": {},
   "outputs": [
    {
     "data": {
      "text/plain": [
       "['pct',\n",
       " 'datestop',\n",
       " 'timestop',\n",
       " 'crimsusp',\n",
       " 'arstmade',\n",
       " 'arstoffn',\n",
       " 'sumissue',\n",
       " 'sumoffen',\n",
       " 'frisked',\n",
       " 'searched',\n",
       " 'contrabn',\n",
       " 'pistol',\n",
       " 'knifcuti',\n",
       " 'pf_hands',\n",
       " 'pf_wall',\n",
       " 'pf_grnd',\n",
       " 'pf_drwep',\n",
       " 'pf_ptwep',\n",
       " 'pf_baton',\n",
       " 'pf_hcuff',\n",
       " 'pf_pepsp',\n",
       " 'pf_other',\n",
       " 'sex',\n",
       " 'race',\n",
       " 'age',\n",
       " 'xcoord',\n",
       " 'ycoord']"
      ]
     },
     "execution_count": 8,
     "metadata": {},
     "output_type": "execute_result"
    }
   ],
   "source": [
    "list(df.columns)"
   ]
  },
  {
   "cell_type": "markdown",
   "metadata": {},
   "source": [
    "##### lets create a few new columns. was the person innocent?  and, was the person carrying a pistol or knife?  and, was force used by the police? "
   ]
  },
  {
   "cell_type": "code",
   "execution_count": 9,
   "metadata": {},
   "outputs": [],
   "source": [
    "# Create a new column called df.crime where the value is yes\n",
    "# if df.arstmade or df.sumissue are Y\n",
    "\n",
    "#df['crime'] = np.where((df['arstmade'] == 'Y')|(df['sumissue'] == df['Y']), 'yes', 'no')\n",
    "\n",
    "#df['weapon'] = np.where((df['pistol'] == 'Y')|(df['knifcuti'] == df['N']), 'yes', 'no')\n",
    "#df['force_used'] = np.where((df['pf_hands'] == 'Y')|\n",
    "                          #  (df['pf_wall'] == df['Y'])|\n",
    "                          #  (df['pf_grnd'] == df['Y'])|\n",
    "                          #  (df['pf_drwep'] == df['Y'])|\n",
    "                          #  (df['pf_ptwep'] == df['Y'])|\n",
    "                           # (df['pf_baton'] == df['Y'])|\n",
    "                           # (df['pepsp'] == df['Y'])|\n",
    "                           # (df['pf_other'] == df['Y']), 'yes', 'no')\n"
   ]
  },
  {
   "cell_type": "markdown",
   "metadata": {},
   "source": [
    "##### after taking a look at the data and identifying some coordinates, further inspect the geometry columns.\n",
    "\n",
    "These are labeled `xcoord` and `ycoord`.  Let's figure out what type of data this is using `type()`\n"
   ]
  },
  {
   "cell_type": "code",
   "execution_count": 10,
   "metadata": {},
   "outputs": [
    {
     "data": {
      "text/plain": [
       "(str, str)"
      ]
     },
     "execution_count": 10,
     "metadata": {},
     "output_type": "execute_result"
    }
   ],
   "source": [
    "# check datatype of 'xcoord' & 'ycoord'\n",
    "type(df.xcoord[1]), type(df.ycoord[1]) # str"
   ]
  },
  {
   "cell_type": "markdown",
   "metadata": {},
   "source": [
    "##### since these are strings, removing extra spaces that may be lingering is necessary before converting over to a numerical type"
   ]
  },
  {
   "cell_type": "code",
   "execution_count": 11,
   "metadata": {},
   "outputs": [],
   "source": [
    "#remove extra spaces in strings\n",
    "df[\"xcoord\"] = df[\"xcoord\"].map(str.strip)  \n",
    "df[\"ycoord\"] = df[\"ycoord\"].map(str.strip)\n",
    "df[\"datestop\"] = df[\"datestop\"].map(str.strip)\n",
    "df[\"timestop\"] = df[\"timestop\"].map(str.strip)\n",
    "df[\"pct\"] = df[\"pct\"].map(str.strip)"
   ]
  },
  {
   "cell_type": "code",
   "execution_count": 12,
   "metadata": {},
   "outputs": [
    {
     "data": {
      "text/plain": [
       "(0    1013353\n",
       " 1     983478\n",
       " 2     988340\n",
       " 3           \n",
       " 4     998197\n",
       " Name: xcoord, dtype: object, 0    234000\n",
       " 1    212373\n",
       " 2    172111\n",
       " 3          \n",
       " 4    187413\n",
       " Name: ycoord, dtype: object)"
      ]
     },
     "execution_count": 12,
     "metadata": {},
     "output_type": "execute_result"
    }
   ],
   "source": [
    "# lets look at the first 5 rows of data in this column\n",
    "df.xcoord.head(), df.ycoord.head()  # and we see the 4th row has no coordinate in either"
   ]
  },
  {
   "cell_type": "markdown",
   "metadata": {},
   "source": [
    "##### Finding an empty row  in the first 5 of 12405 rows is _sheer luck_. If the first 5 rows were geocoded, that error would not have been observed. How could we search for these? \n",
    "\n",
    "Since these are `str`, they won't have any `'NaN'` values.  Rather than visually parse this for bad data, lets assume that any cells without coordinates have some other value within them (or are empty strings, especially since we stripped zeros).  If we sort for the most frequent value in this column, it might return a default string value when there is no location information."
   ]
  },
  {
   "cell_type": "code",
   "execution_count": 13,
   "metadata": {},
   "outputs": [
    {
     "data": {
      "text/plain": [
       "('', '')"
      ]
     },
     "execution_count": 13,
     "metadata": {},
     "output_type": "execute_result"
    }
   ],
   "source": [
    "# check to see what the most common value\n",
    "# .idxmax() returns the most common value in a column\n",
    "df.xcoord.value_counts().idxmax(), df.ycoord.value_counts().idxmax()  # answer will an empty string value ('')"
   ]
  },
  {
   "cell_type": "markdown",
   "metadata": {},
   "source": [
    "##### after identifying the cell value that indicates ***not geocoded***,  now remove ungeocoded cells from the dataframe"
   ]
  },
  {
   "cell_type": "code",
   "execution_count": 14,
   "metadata": {},
   "outputs": [
    {
     "data": {
      "text/plain": [
       "(12405, 27)"
      ]
     },
     "execution_count": 14,
     "metadata": {},
     "output_type": "execute_result"
    }
   ],
   "source": [
    "# replace empty strings with NaN\n",
    "df['xcoord'].replace('', np.nan, inplace=True)\n",
    "df['ycoord'].replace('', np.nan, inplace=True)\n",
    "df.shape # check number of rows here for comparison with result of next step"
   ]
  },
  {
   "cell_type": "code",
   "execution_count": 15,
   "metadata": {},
   "outputs": [
    {
     "data": {
      "text/plain": [
       "(12053, 27)"
      ]
     },
     "execution_count": 15,
     "metadata": {},
     "output_type": "execute_result"
    }
   ],
   "source": [
    "# Now drop the null values\n",
    "df.dropna(subset=['xcoord'], inplace=True)\n",
    "df.dropna(subset=['ycoord'], inplace=True)\n",
    "df.shape # check number of rows here for comparison with result of previous step to verify removal"
   ]
  },
  {
   "cell_type": "code",
   "execution_count": 16,
   "metadata": {},
   "outputs": [
    {
     "data": {
      "text/plain": [
       "numpy.int64"
      ]
     },
     "execution_count": 16,
     "metadata": {},
     "output_type": "execute_result"
    }
   ],
   "source": [
    "# to be useful later, we need numerical values (for now, integers), not Strings. Converting the coordinates into numerical values is paramount. \n",
    "# convert strings to integers\n",
    "df.xcoord = pd.to_numeric(df.xcoord, errors='ignore')\n",
    "df.ycoord = pd.to_numeric(df.ycoord, errors='ignore')\n",
    "type(df.xcoord[1])"
   ]
  },
  {
   "cell_type": "code",
   "execution_count": 17,
   "metadata": {},
   "outputs": [
    {
     "data": {
      "text/plain": [
       "str"
      ]
     },
     "execution_count": 17,
     "metadata": {},
     "output_type": "execute_result"
    }
   ],
   "source": [
    "# check data type\n",
    "type(df.datestop[0])"
   ]
  },
  {
   "cell_type": "markdown",
   "metadata": {},
   "source": [
    "##### After deleting some rows, reset the index.  But before that happens, reordering chronologically might be useful.  "
   ]
  },
  {
   "cell_type": "code",
   "execution_count": 18,
   "metadata": {},
   "outputs": [],
   "source": [
    "# convert date strings to integers  & sort chronologically\n",
    "df['datestop'] = df['datestop'].apply(int) # convert date to integer\n",
    "df.sort_values(by=['datestop'],inplace = True) # sort dataframe by 'date', will sort smallest to largest value, so january 1 will be first! "
   ]
  },
  {
   "cell_type": "code",
   "execution_count": 19,
   "metadata": {},
   "outputs": [
    {
     "name": "stdout",
     "output_type": "stream",
     "text": [
      "0    1012016\n",
      "1    1012016\n",
      "2    1012016\n",
      "3    1012016\n",
      "4    1012016\n",
      "Name: datestop, dtype: int64\n"
     ]
    }
   ],
   "source": [
    "# reset index\n",
    "df = df.reset_index()\n",
    "\n",
    "# delete prior index\n",
    "del df['index'] \n",
    "print(df.datestop.head())  #note these first 5 values are all on jan 1 2016, verifying it worked! "
   ]
  },
  {
   "cell_type": "code",
   "execution_count": 20,
   "metadata": {},
   "outputs": [],
   "source": [
    "# stash the data locally as json\n",
    "with open('./data/2016stops.json', 'w') as f:\n",
    "    f.write(df.to_json())"
   ]
  },
  {
   "cell_type": "markdown",
   "metadata": {},
   "source": [
    "##### now verify the file was written "
   ]
  },
  {
   "cell_type": "code",
   "execution_count": 21,
   "metadata": {},
   "outputs": [
    {
     "name": "stdout",
     "output_type": "stream",
     "text": [
      "2016stops.geojson\n",
      "sqf-2016.csv\n",
      "nyc-boroughs.geojson\n",
      "2016stops.json\n",
      "nypd-precincts.geojson\n"
     ]
    }
   ],
   "source": [
    "# imports the OS module, using the .walk() method returns information about the current working directory. \n",
    "import os\n",
    "for root, dirs, files in os.walk('./data/'):\n",
    "    for filename in files:\n",
    "        print(filename)"
   ]
  },
  {
   "cell_type": "markdown",
   "metadata": {},
   "source": [
    "#### so, we've got a JSON.  To continue, we'll need to define geometry for this using Shapely, prior to converting into a GeoDataFrame for all our awesome web-mapping applications downstream.  "
   ]
  },
  {
   "cell_type": "markdown",
   "metadata": {},
   "source": [
    "Importing geopandas and shapely modules will allow convert coordinates into points with a projection.  "
   ]
  },
  {
   "cell_type": "code",
   "execution_count": 22,
   "metadata": {},
   "outputs": [],
   "source": [
    "import geopandas as gpd\n",
    "from shapely.geometry import Point"
   ]
  },
  {
   "cell_type": "markdown",
   "metadata": {},
   "source": [
    "access JSON that we created and stashed locally and load as dataframe"
   ]
  },
  {
   "cell_type": "code",
   "execution_count": 23,
   "metadata": {},
   "outputs": [
    {
     "data": {
      "text/plain": [
       "(pandas.core.frame.DataFrame,\n",
       "    pct  datestop  timestop     crimsusp arstmade           arstoffn sumissue  \\\n",
       " 0  115   1012016      2012     BURGLARY        Y  CRIMINAL TRESPASS        N   \n",
       " 1   81   1012016      1525       FELONY        N                           N   \n",
       " 2   81   1012016      1535       FELONY        N                           N   \n",
       " 3   14   1012016      1645          FEL        N                           N   \n",
       " 4   90   1012016      1700  MISDEMEANOR        N                           N   \n",
       " \n",
       "   sumoffen frisked searched  ... pf_ptwep pf_baton pf_hcuff pf_pepsp pf_other  \\\n",
       " 0                Y        Y  ...        N        N        Y        N        N   \n",
       " 1                Y        Y  ...        N        N        N        N        N   \n",
       " 2                Y        Y  ...        N        N        N        N        N   \n",
       " 3                Y        N  ...        N        N        N        N        N   \n",
       " 4                N        N  ...        N        N        N        N        N   \n",
       " \n",
       "   sex race age   xcoord  ycoord  \n",
       " 0   M    Q  29  1021102  213296  \n",
       " 1   M    B  21  1006272  189184  \n",
       " 2   M    B  22  1006272  189184  \n",
       " 3   M    W  20   987866  214721  \n",
       " 4   M    W  25  1002739  196254  \n",
       " \n",
       " [5 rows x 27 columns])"
      ]
     },
     "execution_count": 23,
     "metadata": {},
     "output_type": "execute_result"
    }
   ],
   "source": [
    "path_to_file = './data/2016stops.json'\n",
    "df = pd.read_json(path_to_file) # load csv data as pandas DataFrame\n",
    "type(df), df.head()"
   ]
  },
  {
   "cell_type": "markdown",
   "metadata": {},
   "source": [
    "##### create the geometry...\n",
    "this requires us to know the projection that the `xcoord` and `ycoord` were presented.  after a bit of digging, I was able to determine that NYPD used ESPG:2263 as the projected coordinate system.  "
   ]
  },
  {
   "cell_type": "code",
   "execution_count": 24,
   "metadata": {},
   "outputs": [
    {
     "data": {
      "text/html": [
       "<div>\n",
       "<style scoped>\n",
       "    .dataframe tbody tr th:only-of-type {\n",
       "        vertical-align: middle;\n",
       "    }\n",
       "\n",
       "    .dataframe tbody tr th {\n",
       "        vertical-align: top;\n",
       "    }\n",
       "\n",
       "    .dataframe thead th {\n",
       "        text-align: right;\n",
       "    }\n",
       "</style>\n",
       "<table border=\"1\" class=\"dataframe\">\n",
       "  <thead>\n",
       "    <tr style=\"text-align: right;\">\n",
       "      <th></th>\n",
       "      <th>pct</th>\n",
       "      <th>datestop</th>\n",
       "      <th>timestop</th>\n",
       "      <th>crimsusp</th>\n",
       "      <th>arstmade</th>\n",
       "      <th>arstoffn</th>\n",
       "      <th>sumissue</th>\n",
       "      <th>sumoffen</th>\n",
       "      <th>frisked</th>\n",
       "      <th>searched</th>\n",
       "      <th>...</th>\n",
       "      <th>pf_drwep</th>\n",
       "      <th>pf_ptwep</th>\n",
       "      <th>pf_baton</th>\n",
       "      <th>pf_hcuff</th>\n",
       "      <th>pf_pepsp</th>\n",
       "      <th>pf_other</th>\n",
       "      <th>sex</th>\n",
       "      <th>race</th>\n",
       "      <th>age</th>\n",
       "      <th>geometry</th>\n",
       "    </tr>\n",
       "  </thead>\n",
       "  <tbody>\n",
       "    <tr>\n",
       "      <td>0</td>\n",
       "      <td>115</td>\n",
       "      <td>1012016</td>\n",
       "      <td>2012</td>\n",
       "      <td>BURGLARY</td>\n",
       "      <td>Y</td>\n",
       "      <td>CRIMINAL TRESPASS</td>\n",
       "      <td>N</td>\n",
       "      <td></td>\n",
       "      <td>Y</td>\n",
       "      <td>Y</td>\n",
       "      <td>...</td>\n",
       "      <td>N</td>\n",
       "      <td>N</td>\n",
       "      <td>N</td>\n",
       "      <td>Y</td>\n",
       "      <td>N</td>\n",
       "      <td>N</td>\n",
       "      <td>M</td>\n",
       "      <td>Q</td>\n",
       "      <td>29</td>\n",
       "      <td>POINT (1021102 213296)</td>\n",
       "    </tr>\n",
       "    <tr>\n",
       "      <td>1</td>\n",
       "      <td>81</td>\n",
       "      <td>1012016</td>\n",
       "      <td>1525</td>\n",
       "      <td>FELONY</td>\n",
       "      <td>N</td>\n",
       "      <td></td>\n",
       "      <td>N</td>\n",
       "      <td></td>\n",
       "      <td>Y</td>\n",
       "      <td>Y</td>\n",
       "      <td>...</td>\n",
       "      <td>N</td>\n",
       "      <td>N</td>\n",
       "      <td>N</td>\n",
       "      <td>N</td>\n",
       "      <td>N</td>\n",
       "      <td>N</td>\n",
       "      <td>M</td>\n",
       "      <td>B</td>\n",
       "      <td>21</td>\n",
       "      <td>POINT (1006272 189184)</td>\n",
       "    </tr>\n",
       "    <tr>\n",
       "      <td>2</td>\n",
       "      <td>81</td>\n",
       "      <td>1012016</td>\n",
       "      <td>1535</td>\n",
       "      <td>FELONY</td>\n",
       "      <td>N</td>\n",
       "      <td></td>\n",
       "      <td>N</td>\n",
       "      <td></td>\n",
       "      <td>Y</td>\n",
       "      <td>Y</td>\n",
       "      <td>...</td>\n",
       "      <td>N</td>\n",
       "      <td>N</td>\n",
       "      <td>N</td>\n",
       "      <td>N</td>\n",
       "      <td>N</td>\n",
       "      <td>N</td>\n",
       "      <td>M</td>\n",
       "      <td>B</td>\n",
       "      <td>22</td>\n",
       "      <td>POINT (1006272 189184)</td>\n",
       "    </tr>\n",
       "    <tr>\n",
       "      <td>3</td>\n",
       "      <td>14</td>\n",
       "      <td>1012016</td>\n",
       "      <td>1645</td>\n",
       "      <td>FEL</td>\n",
       "      <td>N</td>\n",
       "      <td></td>\n",
       "      <td>N</td>\n",
       "      <td></td>\n",
       "      <td>Y</td>\n",
       "      <td>N</td>\n",
       "      <td>...</td>\n",
       "      <td>N</td>\n",
       "      <td>N</td>\n",
       "      <td>N</td>\n",
       "      <td>N</td>\n",
       "      <td>N</td>\n",
       "      <td>N</td>\n",
       "      <td>M</td>\n",
       "      <td>W</td>\n",
       "      <td>20</td>\n",
       "      <td>POINT (987866 214721)</td>\n",
       "    </tr>\n",
       "    <tr>\n",
       "      <td>4</td>\n",
       "      <td>90</td>\n",
       "      <td>1012016</td>\n",
       "      <td>1700</td>\n",
       "      <td>MISDEMEANOR</td>\n",
       "      <td>N</td>\n",
       "      <td></td>\n",
       "      <td>N</td>\n",
       "      <td></td>\n",
       "      <td>N</td>\n",
       "      <td>N</td>\n",
       "      <td>...</td>\n",
       "      <td>N</td>\n",
       "      <td>N</td>\n",
       "      <td>N</td>\n",
       "      <td>N</td>\n",
       "      <td>N</td>\n",
       "      <td>N</td>\n",
       "      <td>M</td>\n",
       "      <td>W</td>\n",
       "      <td>25</td>\n",
       "      <td>POINT (1002739 196254)</td>\n",
       "    </tr>\n",
       "  </tbody>\n",
       "</table>\n",
       "<p>5 rows × 26 columns</p>\n",
       "</div>"
      ],
      "text/plain": [
       "   pct  datestop  timestop     crimsusp arstmade           arstoffn sumissue  \\\n",
       "0  115   1012016      2012     BURGLARY        Y  CRIMINAL TRESPASS        N   \n",
       "1   81   1012016      1525       FELONY        N                           N   \n",
       "2   81   1012016      1535       FELONY        N                           N   \n",
       "3   14   1012016      1645          FEL        N                           N   \n",
       "4   90   1012016      1700  MISDEMEANOR        N                           N   \n",
       "\n",
       "  sumoffen frisked searched  ... pf_drwep pf_ptwep pf_baton pf_hcuff pf_pepsp  \\\n",
       "0                Y        Y  ...        N        N        N        Y        N   \n",
       "1                Y        Y  ...        N        N        N        N        N   \n",
       "2                Y        Y  ...        N        N        N        N        N   \n",
       "3                Y        N  ...        N        N        N        N        N   \n",
       "4                N        N  ...        N        N        N        N        N   \n",
       "\n",
       "  pf_other sex race age                geometry  \n",
       "0        N   M    Q  29  POINT (1021102 213296)  \n",
       "1        N   M    B  21  POINT (1006272 189184)  \n",
       "2        N   M    B  22  POINT (1006272 189184)  \n",
       "3        N   M    W  20   POINT (987866 214721)  \n",
       "4        N   M    W  25  POINT (1002739 196254)  \n",
       "\n",
       "[5 rows x 26 columns]"
      ]
     },
     "execution_count": 24,
     "metadata": {},
     "output_type": "execute_result"
    }
   ],
   "source": [
    "# create geometry using Shapely Point & assign proper projection\n",
    "geometry = [Point(xy) for xy in zip(df.xcoord, df.ycoord)]\n",
    "df = df.drop(['xcoord', 'ycoord'], axis=1)\n",
    "crs = {'init': 'epsg:2263'}\n",
    "gdf = gpd.GeoDataFrame(df, crs=crs, geometry=geometry)\n",
    "gdf.head()"
   ]
  },
  {
   "cell_type": "markdown",
   "metadata": {},
   "source": [
    "##### reproject data to web-map ready EPSG:4326"
   ]
  },
  {
   "cell_type": "code",
   "execution_count": 25,
   "metadata": {},
   "outputs": [
    {
     "data": {
      "text/plain": [
       "{'init': 'epsg:4326', 'no_defs': True}"
      ]
     },
     "execution_count": 25,
     "metadata": {},
     "output_type": "execute_result"
    }
   ],
   "source": [
    "gdf.to_crs(epsg=4326, inplace=True)\n",
    "#gdf.to_crs({'init': 'epsg:4269'})\n",
    "gdf.crs"
   ]
  },
  {
   "cell_type": "markdown",
   "metadata": {},
   "source": [
    "##### visualize the data (are we mapping yet?), but first we'll need some plotting tools. "
   ]
  },
  {
   "cell_type": "code",
   "execution_count": 26,
   "metadata": {},
   "outputs": [],
   "source": [
    "# import plotter \n",
    "%matplotlib inline\n",
    "\n",
    "import matplotlib.pyplot as plt\n",
    "# change default figsize\n",
    "plt.rcParams['figure.figsize'] = (15, 12)"
   ]
  },
  {
   "cell_type": "code",
   "execution_count": 27,
   "metadata": {},
   "outputs": [
    {
     "data": {
      "image/png": "[encoded data removed]",
      "text/plain": [
       "<Figure size 432x288 with 1 Axes>"
      ]
     },
     "metadata": {
      "needs_background": "light"
     },
     "output_type": "display_data"
    }
   ],
   "source": [
    "fig, ax = plt.subplots()\n",
    " \n",
    "base_color = '#f0f0f0'\n",
    "border_color = base_color\n",
    " \n",
    "gdf.plot(ax=ax, color='red', alpha=0.1, zorder=0, label='stops');  #low opacity adds a heatmap effect at this scale.  unintentional\n",
    " \n",
    "ax.set(title=\"stop and frisks 2016\",\n",
    "       xlabel=\"X coordinates\",\n",
    "       ylabel=\"Y coordinates\") \n",
    "ax.legend();"
   ]
  },
  {
   "cell_type": "markdown",
   "metadata": {},
   "source": [
    "#### bring in some other data to see if everything appears to be in order"
   ]
  },
  {
   "cell_type": "code",
   "execution_count": 28,
   "metadata": {
    "scrolled": true
   },
   "outputs": [],
   "source": [
    "# import datasets\n",
    "pr = gpd.read_file('./data/nypd-precincts.geojson') # import precincts geometry\n",
    "bo = gpd.read_file('./data/nyc-boroughs.geojson') # import precincts geometry"
   ]
  },
  {
   "cell_type": "code",
   "execution_count": 29,
   "metadata": {},
   "outputs": [
    {
     "data": {
      "text/plain": [
       "({'init': 'epsg:4326'}, {'init': 'epsg:4326'})"
      ]
     },
     "execution_count": 29,
     "metadata": {},
     "output_type": "execute_result"
    }
   ],
   "source": [
    "# check CRS on each\n",
    "pr.crs, bo.crs"
   ]
  },
  {
   "cell_type": "code",
   "execution_count": 30,
   "metadata": {},
   "outputs": [
    {
     "data": {
      "text/plain": [
       "(numpy.int64, 0     1\n",
       " 1     5\n",
       " 2     6\n",
       " 3    71\n",
       " 4    72\n",
       " Name: precinct, dtype: int64, array([-74.25559136,  40.4961154 , -73.70000906,  40.91553278]))"
      ]
     },
     "execution_count": 30,
     "metadata": {},
     "output_type": "execute_result"
    }
   ],
   "source": [
    "# to be useful later, we need numerical values (for now, integers), not Strings. Converting the coordinates into numerical values is paramount. \n",
    "# convert strings to integers\n",
    "pr.precinct = pd.to_numeric(pr.precinct, errors='ignore')\n",
    "type(pr.precinct[1]), pr.precinct.head(), pr.total_bounds"
   ]
  },
  {
   "cell_type": "code",
   "execution_count": 39,
   "metadata": {},
   "outputs": [
    {
     "data": {
      "text/plain": [
       "[(40.25, 41), (-74.3, -73.6)]"
      ]
     },
     "execution_count": 39,
     "metadata": {},
     "output_type": "execute_result"
    },
    {
     "data": {
      "image/png": "[encoded data removed]",
      "text/plain": [
       "<Figure size 432x288 with 1 Axes>"
      ]
     },
     "metadata": {
      "needs_background": "light"
     },
     "output_type": "display_data"
    }
   ],
   "source": [
    "fig, ax = plt.subplots()\n",
    " \n",
    "base_color = '#f0f0f0'\n",
    "border_color = base_color\n",
    "\n",
    "# layers to print\n",
    "pr.plot(ax=ax, edgecolor='black', alpha=0.1, zorder=2);\n",
    "gdf.plot(ax=ax, alpha=0.01, zorder=3);  #low opacity adds a heatmap effect at this scale.\n",
    "bo.plot(ax=ax, edgecolor='black', linewidth=.5, color='white', alpha=1, zorder=1);\n",
    "\n",
    "# add title and labels\n",
    "ax.set(title=\"sqf2016\",\n",
    "       xlabel=\"X coordinates\",\n",
    "       ylabel=\"Y coordinates\") \n",
    "\n",
    "# reset bounds to match NYC data\n",
    "ax.set(xlim=(-74.3,-73.6), ylim=(40.25,41))\n",
    "\n",
    "\n"
   ]
  },
  {
   "cell_type": "code",
   "execution_count": 32,
   "metadata": {},
   "outputs": [],
   "source": [
    "# try to pull bounds to reuse in function? \n",
    "#array = pr.total_bounds # this returns a numpy array\n",
    "#bounds = np.array(array).tolist()"
   ]
  },
  {
   "cell_type": "markdown",
   "metadata": {},
   "source": [
    "what about zooming into a single precinct and looking at the temporal aspect? "
   ]
  },
  {
   "cell_type": "markdown",
   "metadata": {},
   "source": [
    "quickly take a look at `pr` Precincts"
   ]
  },
  {
   "cell_type": "code",
   "execution_count": 33,
   "metadata": {},
   "outputs": [
    {
     "data": {
      "text/plain": [
       "(None,    precinct     shape_area     shape_leng  \\\n",
       " 0         1  47313318.0761  80563.0640816   \n",
       " 1         5  18088797.9526  18676.1242594   \n",
       " 2         6  22098189.8026  26402.9006691   \n",
       " 5         7  18364020.9154  17301.3086822   \n",
       " 6         9  21394233.7415  19773.2334096   \n",
       " \n",
       "                                             geometry  \n",
       " 0  (POLYGON ((-74.0438776157395 40.69018767637665...  \n",
       " 1  (POLYGON ((-73.98863862848766 40.7229337202636...  \n",
       " 2  (POLYGON ((-73.99968392160721 40.7385522486597...  \n",
       " 5  (POLYGON ((-73.97345389423181 40.718962954076,...  \n",
       " 6  (POLYGON ((-73.97160900246391 40.7267234011698...  , numpy.int64, 1)"
      ]
     },
     "execution_count": 33,
     "metadata": {},
     "output_type": "execute_result"
    }
   ],
   "source": [
    "#stacking these data inspection commands is possible using commas\n",
    "pr.sort_values(by=['precinct'],inplace = True),pr.head(),type(pr.precinct[0]),pr.precinct[0]"
   ]
  },
  {
   "cell_type": "code",
   "execution_count": 34,
   "metadata": {},
   "outputs": [
    {
     "data": {
      "text/plain": [
       "(numpy.int64,    precinct     shape_area     shape_leng  \\\n",
       " 0         1  47313318.0761  80563.0640816   \n",
       " 1         5  18088797.9526  18676.1242594   \n",
       " 2         6  22098189.8026  26402.9006691   \n",
       " 3         7  18364020.9154  17301.3086822   \n",
       " 4         9  21394233.7415  19773.2334096   \n",
       " \n",
       "                                             geometry  \n",
       " 0  (POLYGON ((-74.0438776157395 40.69018767637665...  \n",
       " 1  (POLYGON ((-73.98863862848766 40.7229337202636...  \n",
       " 2  (POLYGON ((-73.99968392160721 40.7385522486597...  \n",
       " 3  (POLYGON ((-73.97345389423181 40.718962954076,...  \n",
       " 4  (POLYGON ((-73.97160900246391 40.7267234011698...  )"
      ]
     },
     "execution_count": 34,
     "metadata": {},
     "output_type": "execute_result"
    }
   ],
   "source": [
    "# to be useful later, we need numerical values (for now, integers), not Strings. Converting the coordinates into numerical values is paramount. \n",
    "# convert strings to integers\n",
    "#pr.precinct = pd.to_numeric(pr.precinct, errors='ignore')\n",
    "\n",
    "# convert date strings to integers  & sort chronologically\n",
    "pr['precinct'] = pr['precinct'].apply(int) # convert date to integer\n",
    "pr.sort_values(by=['precinct'],inplace = True) # sort dataframe by 'date', will sort smallest to largest value, so january 1 will be first! \n",
    "pr = pr.reset_index()\n",
    "del pr['index'] \n",
    "type(pr.precinct[1]), pr.head()\n"
   ]
  },
  {
   "cell_type": "markdown",
   "metadata": {},
   "source": [
    "##### export this data as webmap ready GEOJSON"
   ]
  },
  {
   "cell_type": "code",
   "execution_count": 35,
   "metadata": {},
   "outputs": [],
   "source": [
    "#export as geojson \n",
    "### throws an error unless file is deleted prior\n",
    "gdf.to_file(r'./data/2016stops.geojson', driver=\"GeoJSON\")"
   ]
  },
  {
   "cell_type": "code",
   "execution_count": 36,
   "metadata": {},
   "outputs": [
    {
     "name": "stdout",
     "output_type": "stream",
     "text": [
      "2016stops.geojson\n",
      "sqf-2016.csv\n",
      "nyc-boroughs.geojson\n",
      "2016stops.json\n",
      "nypd-precincts.geojson\n"
     ]
    }
   ],
   "source": [
    "#double check the data, for ASMR purposes alone\n",
    "for root, dirs, files in os.walk('./data/'):\n",
    "    for filename in files:\n",
    "        print(filename)"
   ]
  }
 ],
 "metadata": {
  "kernelspec": {
   "display_name": "Python 3",
   "language": "python",
   "name": "python3"
  },
  "language_info": {
   "codemirror_mode": {
    "name": "ipython",
    "version": 3
   },
   "file_extension": ".py",
   "mimetype": "text/x-python",
   "name": "python",
   "nbconvert_exporter": "python",
   "pygments_lexer": "ipython3",
   "version": "3.7.4"
  }
 },
 "nbformat": 4,
 "nbformat_minor": 2
}
