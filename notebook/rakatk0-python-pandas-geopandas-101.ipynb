{
 "cells": [
  {
   "cell_type": "markdown",
   "metadata": {},
   "source": [
    "## How to do some GIS using Geopandas: \n",
    "#### An introduction for novices, by a novice. \n",
    "***Purpose:*** To showcase a clean Jupyter notebook that outputs webmap-ready data (GeoJSON).  This notebook will incorporate Geopandas, and a variety of other Python libraries to import, wrangle, analyze, and export data within a typical data-viz and mapping workflow."
   ]
  },
  {
   "cell_type": "markdown",
   "metadata": {},
   "source": [
    "###### Created by Ritchie Katko (rakatk0@uky.edu) for [UKy Geography's New Maps Plus](http://newmapsplus.uky.edu/) MAP674 Fall 2019"
   ]
  },
  {
   "cell_type": "markdown",
   "metadata": {},
   "source": [
    "##### Objective: \n",
    "This notebook will fulfill its purpose through the exploration of New York City Police Department's [\"Stop, Question, Frisk\" Data](https://www1.nyc.gov/site/nypd/stats/reports-analysis/stopfrisk.page) for the year 2016.  This data originates as a CSV, projected in [EPSG:2263 NAD83 / New York Long Island (ftUS)](https://epsg.io/2263). It will have to be cleaned up and reprojected to be ready for analysis against other geospatial data (see below).\n",
    "\n",
    "Please note the following: The data wrangling and analysis performed in this notebook is intended to function as a geopandas tutorial, rather than as a piece of data-journalism. \n",
    "\n",
    "Data utilized in this notebook: \n",
    "- [NYPD Precinct Boundaries](https://data.cityofnewyork.us/Public-Safety/Police-Precincts/78dh-3ptz)\n",
    "- [\"Stop, Question, Frisk\" Data](https://www1.nyc.gov/site/nypd/stats/reports-analysis/stopfrisk.page)\n",
    "\n"
   ]
  },
  {
   "cell_type": "markdown",
   "metadata": {},
   "source": [
    "#### Setting up the environment\n",
    "Here's my background specs: \n",
    "- ***OS***: Ubuntu 16.04.6 LTS\n",
    "- ***Python version***: `$ /usr/bin/python3 -V` 3.5.2\n",
    "- ***Anaconda3 version***: `$ conda info` 4.5.11\n",
    "\n",
    "###### Conda Environment \n",
    "The following packages must be installed (`$ conda install`) into the active Conda environment:\n",
    "- `Jupyter` (allows use of jupyter coding environment\n",
    "- `Geopandas` (integrates other packages geospatial components) \n",
    "- `Matplotlib` (dataviz package - allows plotting of visualizations)\n",
    "\n",
    "##### after activating the Conda Environment of choice, navigate to the working directory and run `jupyter notebook` to initiate the browser-based notebook environment.  \n",
    "\n",
    "##### Now, let's get to work: "
   ]
  },
  {
   "cell_type": "markdown",
   "metadata": {},
   "source": [
    "##### First we'll Add packages to allow for their use in this environment\n",
    "From the [pandas website](https://pandas.pydata.org/): \"pandas is an open source, BSD-licensed library providing high-performance, easy-to-use data structures and data analysis tools for the Python programming language\"\n",
    "\n",
    "From the [numpy website](https://numpy.org/): \"Besides its obvious scientific uses, NumPy can also be used as an efficient multi-dimensional container of generic data. Arbitrary data-types can be defined. This allows NumPy to seamlessly and speedily integrate with a wide variety of databases.\""
   ]
  },
  {
   "cell_type": "code",
   "execution_count": 1,
   "metadata": {},
   "outputs": [],
   "source": [
    "# import packages, using aliases to simplify code\n",
    "import pandas as pd\n",
    "import numpy as np"
   ]
  },
  {
   "cell_type": "markdown",
   "metadata": {},
   "source": [
    "##### Load Local Data\n",
    "We'll load a CSV into the notebook as dataframe `df`. This CSV is hosted locally within the repository. Using the `.type()` method, the cell will output the type of data.  In this case it is a `pandas.core.frame.DataFrame`"
   ]
  },
  {
   "cell_type": "code",
   "execution_count": 2,
   "metadata": {},
   "outputs": [
    {
     "data": {
      "text/plain": [
       "pandas.core.frame.DataFrame"
      ]
     },
     "execution_count": 2,
     "metadata": {},
     "output_type": "execute_result"
    }
   ],
   "source": [
    "# load csv into notebook as dataframe 'df', and check the data  \n",
    "path_to_file = './data/sqf-2016.csv'\n",
    "# url version: path_to_file = 'https://www1.nyc.gov/assets/nypd/downloads/excel/analysis_and_planning/stop-question-frisk/sqf-2016.csv'\n",
    "\n",
    "df = pd.read_csv(path_to_file,  dtype = str) # load csv data as pandas DataFrame, load # dtype = str, \n",
    "type(df)"
   ]
  },
  {
   "cell_type": "markdown",
   "metadata": {},
   "source": [
    "##### take a look at the data, from a few angles\n",
    "Using `.shape` provides a simple look at the number of rows and columns.  using `.sample(X)` provides a random sampling of X # of rows for inspection.   `.head()` and `.tail()` return the first 5, and last 5 rows, respectively. Using `list(df.columns)` will return a list of all the columns within the dataframe. "
   ]
  },
  {
   "cell_type": "code",
   "execution_count": 3,
   "metadata": {
    "scrolled": true
   },
   "outputs": [
    {
     "data": {
      "text/plain": [
       "((12405, 112),\n",
       "       year  pct ser_num datestop timestop recstat inout trhsloc perobs  \\\n",
       " 3920  2016   23      72  3292016     1420       1     O       P   5.00   \n",
       " 7623  2016  122     128  6222016     2323       1     O       P   1.00   \n",
       " \n",
       "      crimsusp  ... zip addrpct sector beat post   xcoord   ycoord dettypCM  \\\n",
       " 3920      CPW  ...          23      G            1001995   229037       CM   \n",
       " 7623   FELONY  ...         122      I             961742   156964       CM   \n",
       " \n",
       "      lineCM detailCM  \n",
       " 3920      1       20  \n",
       " 7623      1       85  \n",
       " \n",
       " [2 rows x 112 columns])"
      ]
     },
     "execution_count": 3,
     "metadata": {},
     "output_type": "execute_result"
    }
   ],
   "source": [
    "df.shape, df.sample(2)  # shape will return the number of rows, and columns.  .sample() will return a random row"
   ]
  },
  {
   "cell_type": "code",
   "execution_count": 4,
   "metadata": {},
   "outputs": [
    {
     "data": {
      "text/plain": [
       "(   year pct ser_num datestop timestop recstat inout trhsloc perobs  \\\n",
       " 0  2016  41      22  2072016      100       A     O       P   1.00   \n",
       " 1  2016  10      22  2182016       30       1     O       P   8.00   \n",
       " 2  2016  66       1  1012016       30       1     I       P   2.00   \n",
       " 3  2016  47      18  1012016       40       1     O       H   1.00   \n",
       " 4  2016  79       1  1012016       50       1     O       P   3.00   \n",
       " \n",
       "       crimsusp  ... zip addrpct sector beat post   xcoord   ycoord dettypCM  \\\n",
       " 0         BURG  ...          41      B    2       1013353   234000       CM   \n",
       " 1  MISDEMEANOR  ...          10      D             983478   212373       CM   \n",
       " 2          FEL  ...          66      F             988340   172111       CM   \n",
       " 3          FEL  ...          47      C                                   CM   \n",
       " 4       D.W.I.  ...          79      G    4        998197   187413       CM   \n",
       " \n",
       "   lineCM detailCM  \n",
       " 0      1       14  \n",
       " 1      1       28  \n",
       " 2      1        9  \n",
       " 3      1       20  \n",
       " 4      1      112  \n",
       " \n",
       " [5 rows x 112 columns],\n",
       "        year  pct ser_num  datestop timestop recstat inout trhsloc perobs  \\\n",
       " 12400  2016  123      89  12022016     1847       1     O       P   1.00   \n",
       " 12401  2016  123      90  12022016      255       1     O       P   5.00   \n",
       " 12402  2016  123      91  12042016     2225       1     O       P   2.00   \n",
       " 12403  2016  123      92  11222016     2212       1     O       P   1.00   \n",
       " 12404                                                                      \n",
       " \n",
       "       crimsusp  ... zip addrpct sector beat post   xcoord   ycoord dettypCM  \\\n",
       " 12400      FEL  ...         123      G             935054   136263       CM   \n",
       " 12401     MISD  ...         123      B             917943   127951       CM   \n",
       " 12402     MISD  ...         123      C             930949   133127       CM   \n",
       " 12403     MISD  ...         123      F             939042   132823       CM   \n",
       " 12404           ...                                                           \n",
       " \n",
       "       lineCM detailCM  \n",
       " 12400      1        9  \n",
       " 12401      1       80  \n",
       " 12402      1       68  \n",
       " 12403      1       20  \n",
       " 12404                  \n",
       " \n",
       " [5 rows x 112 columns])"
      ]
     },
     "execution_count": 4,
     "metadata": {},
     "output_type": "execute_result"
    }
   ],
   "source": [
    "df.head(), df.tail()"
   ]
  },
  {
   "cell_type": "code",
   "execution_count": 5,
   "metadata": {},
   "outputs": [],
   "source": [
    "# drop the last row, which is blank\n",
    "df.drop(df.tail(1).index,inplace=True)"
   ]
  },
  {
   "cell_type": "code",
   "execution_count": 6,
   "metadata": {},
   "outputs": [
    {
     "data": {
      "text/plain": [
       "['year',\n",
       " 'pct',\n",
       " 'ser_num',\n",
       " 'datestop',\n",
       " 'timestop',\n",
       " 'recstat',\n",
       " 'inout',\n",
       " 'trhsloc',\n",
       " 'perobs',\n",
       " 'crimsusp',\n",
       " 'perstop',\n",
       " 'typeofid',\n",
       " 'explnstp',\n",
       " 'othpers',\n",
       " 'arstmade',\n",
       " 'arstoffn',\n",
       " 'sumissue',\n",
       " 'sumoffen',\n",
       " 'compyear',\n",
       " 'comppct',\n",
       " 'offunif',\n",
       " 'officrid',\n",
       " 'frisked',\n",
       " 'searched',\n",
       " 'contrabn',\n",
       " 'adtlrept',\n",
       " 'pistol',\n",
       " 'riflshot',\n",
       " 'asltweap',\n",
       " 'knifcuti',\n",
       " 'machgun',\n",
       " 'othrweap',\n",
       " 'pf_hands',\n",
       " 'pf_wall',\n",
       " 'pf_grnd',\n",
       " 'pf_drwep',\n",
       " 'pf_ptwep',\n",
       " 'pf_baton',\n",
       " 'pf_hcuff',\n",
       " 'pf_pepsp',\n",
       " 'pf_other',\n",
       " 'radio',\n",
       " 'ac_rept',\n",
       " 'ac_inves',\n",
       " 'rf_vcrim',\n",
       " 'rf_othsw',\n",
       " 'ac_proxm',\n",
       " 'rf_attir',\n",
       " 'cs_objcs',\n",
       " 'cs_descr',\n",
       " 'cs_casng',\n",
       " 'cs_lkout',\n",
       " 'rf_vcact',\n",
       " 'cs_cloth',\n",
       " 'cs_drgtr',\n",
       " 'ac_evasv',\n",
       " 'ac_assoc',\n",
       " 'cs_furtv',\n",
       " 'rf_rfcmp',\n",
       " 'ac_cgdir',\n",
       " 'rf_verbl',\n",
       " 'cs_vcrim',\n",
       " 'cs_bulge',\n",
       " 'cs_other',\n",
       " 'ac_incid',\n",
       " 'ac_time',\n",
       " 'rf_knowl',\n",
       " 'ac_stsnd',\n",
       " 'ac_other',\n",
       " 'sb_hdobj',\n",
       " 'sb_outln',\n",
       " 'sb_admis',\n",
       " 'sb_other',\n",
       " 'repcmd',\n",
       " 'revcmd',\n",
       " 'rf_furt',\n",
       " 'rf_bulg',\n",
       " 'offverb',\n",
       " 'offshld',\n",
       " 'forceuse',\n",
       " 'sex',\n",
       " 'race',\n",
       " 'dob',\n",
       " 'age',\n",
       " 'ht_feet',\n",
       " 'ht_inch',\n",
       " 'weight',\n",
       " 'haircolr',\n",
       " 'eyecolor',\n",
       " 'build',\n",
       " 'othfeatr',\n",
       " 'addrtyp',\n",
       " 'rescode',\n",
       " 'premtype',\n",
       " 'premname',\n",
       " 'addrnum',\n",
       " 'stname',\n",
       " 'stinter',\n",
       " 'crossst',\n",
       " 'aptnum',\n",
       " 'city',\n",
       " 'state',\n",
       " 'zip',\n",
       " 'addrpct',\n",
       " 'sector',\n",
       " 'beat',\n",
       " 'post',\n",
       " 'xcoord',\n",
       " 'ycoord',\n",
       " 'dettypCM',\n",
       " 'lineCM',\n",
       " 'detailCM']"
      ]
     },
     "execution_count": 6,
     "metadata": {},
     "output_type": "execute_result"
    }
   ],
   "source": [
    "list(df.columns) # take a look at all the columns"
   ]
  },
  {
   "cell_type": "markdown",
   "metadata": {},
   "source": [
    "##### are there any columns we don't care about that can be removed?   \n",
    "This dataset has granular detail on 12000+ incidents.  Let's simplify this. Taking a look at a key provided for this data, there are many detailed records for each individual stop.  The dataset provides information on if an arrest or summons was made, if a weapon was found, if force was used, demographic info about the person stopped, and location information about when and where the stop occured, as well as information regarding the officer who made the stop. Quite a few columnns, for the purpose of this investigation, can be removed.  To do so, one can use the `.drop() method`.  "
   ]
  },
  {
   "cell_type": "code",
   "execution_count": 7,
   "metadata": {},
   "outputs": [],
   "source": [
    "df = df.drop(columns=['year',\n",
    " 'ser_num',\n",
    " 'recstat',\n",
    " 'inout',\n",
    " 'trhsloc',\n",
    " 'perobs',\n",
    " 'perstop',\n",
    " 'typeofid',\n",
    " 'explnstp',\n",
    " 'othpers',\n",
    " 'compyear',\n",
    " 'comppct',\n",
    " 'offunif',\n",
    " 'officrid',\n",
    " 'adtlrept',\n",
    " 'riflshot',\n",
    " 'asltweap',\n",
    " 'machgun',\n",
    " 'othrweap',\n",
    " 'radio',\n",
    " 'ac_rept',\n",
    " 'ac_inves',\n",
    " 'rf_vcrim',\n",
    " 'rf_othsw',\n",
    " 'ac_proxm',\n",
    " 'rf_attir',\n",
    " 'cs_objcs',\n",
    " 'cs_descr',\n",
    " 'cs_casng',\n",
    " 'cs_lkout',\n",
    " 'rf_vcact',\n",
    " 'cs_cloth',\n",
    " 'cs_drgtr',\n",
    " 'ac_evasv',\n",
    " 'ac_assoc',\n",
    " 'cs_furtv',\n",
    " 'rf_rfcmp',\n",
    " 'ac_cgdir',\n",
    " 'rf_verbl',\n",
    " 'cs_vcrim',\n",
    " 'cs_bulge',\n",
    " 'cs_other',\n",
    " 'ac_incid',\n",
    " 'ac_time',\n",
    " 'rf_knowl',\n",
    " 'ac_stsnd',\n",
    " 'ac_other',\n",
    " 'sb_hdobj',\n",
    " 'sb_outln',\n",
    " 'sb_admis',\n",
    " 'sb_other',\n",
    " 'repcmd',\n",
    " 'revcmd',\n",
    " 'rf_furt',\n",
    " 'rf_bulg',\n",
    " 'offverb',\n",
    " 'offshld',\n",
    " 'forceuse',\n",
    " 'dob',\n",
    " 'ht_feet',\n",
    " 'ht_inch',\n",
    " 'weight',\n",
    " 'haircolr',\n",
    " 'eyecolor',\n",
    " 'build',\n",
    " 'othfeatr',\n",
    " 'addrtyp',\n",
    " 'rescode',\n",
    " 'premtype',\n",
    " 'premname',\n",
    " 'addrnum',\n",
    " 'stname',\n",
    " 'stinter',\n",
    " 'crossst',\n",
    " 'aptnum',\n",
    " 'state',\n",
    " 'zip',\n",
    " 'addrpct',\n",
    " 'sector',\n",
    " 'beat',\n",
    " 'post',\n",
    " 'dettypCM',\n",
    " 'lineCM',\n",
    " 'detailCM'])"
   ]
  },
  {
   "cell_type": "code",
   "execution_count": 8,
   "metadata": {},
   "outputs": [
    {
     "data": {
      "text/plain": [
       "['pct',\n",
       " 'datestop',\n",
       " 'timestop',\n",
       " 'crimsusp',\n",
       " 'arstmade',\n",
       " 'arstoffn',\n",
       " 'sumissue',\n",
       " 'sumoffen',\n",
       " 'frisked',\n",
       " 'searched',\n",
       " 'contrabn',\n",
       " 'pistol',\n",
       " 'knifcuti',\n",
       " 'pf_hands',\n",
       " 'pf_wall',\n",
       " 'pf_grnd',\n",
       " 'pf_drwep',\n",
       " 'pf_ptwep',\n",
       " 'pf_baton',\n",
       " 'pf_hcuff',\n",
       " 'pf_pepsp',\n",
       " 'pf_other',\n",
       " 'sex',\n",
       " 'race',\n",
       " 'age',\n",
       " 'city',\n",
       " 'xcoord',\n",
       " 'ycoord']"
      ]
     },
     "execution_count": 8,
     "metadata": {},
     "output_type": "execute_result"
    }
   ],
   "source": [
    "# return a list of remaining columns \n",
    "list(df.columns)"
   ]
  },
  {
   "cell_type": "markdown",
   "metadata": {},
   "source": [
    "##### after taking a look at the data and identifying some coordinates, further inspect the geometry columns.\n",
    "\n",
    "These are labeled `xcoord` and `ycoord`.  Let's figure out what type of data this is using `type()` along with bracket notation to drill into specific cells within columns. \n"
   ]
  },
  {
   "cell_type": "code",
   "execution_count": 9,
   "metadata": {},
   "outputs": [
    {
     "data": {
      "text/plain": [
       "(str, str)"
      ]
     },
     "execution_count": 9,
     "metadata": {},
     "output_type": "execute_result"
    }
   ],
   "source": [
    "# check datatype of 'xcoord' & 'ycoord'\n",
    "type(df.xcoord[1]), type(df.ycoord[1]) # str"
   ]
  },
  {
   "cell_type": "markdown",
   "metadata": {},
   "source": [
    "##### since these are strings, removing extra spaces at the beginning or end of the string that may be lingering is necessary before converting over to a numerical type\n",
    "This is done with using the `.map()` method (which allows for changes to an entire series), with the `.str.strip()`.  This was completed for a variety of columns that utilized strings.  "
   ]
  },
  {
   "cell_type": "code",
   "execution_count": 10,
   "metadata": {},
   "outputs": [],
   "source": [
    "#remove extra spaces in strings\n",
    "df[\"xcoord\"] = df[\"xcoord\"].map(str.strip)  \n",
    "df[\"ycoord\"] = df[\"ycoord\"].map(str.strip)\n",
    "df[\"timestop\"] = df[\"timestop\"].map(str.strip)\n",
    "df[\"pct\"] = df[\"pct\"].map(str.strip)"
   ]
  },
  {
   "cell_type": "code",
   "execution_count": 11,
   "metadata": {},
   "outputs": [
    {
     "data": {
      "text/plain": [
       "(0    1013353\n",
       " 1     983478\n",
       " 2     988340\n",
       " 3           \n",
       " 4     998197\n",
       " Name: xcoord, dtype: object, 0    234000\n",
       " 1    212373\n",
       " 2    172111\n",
       " 3          \n",
       " 4    187413\n",
       " Name: ycoord, dtype: object)"
      ]
     },
     "execution_count": 11,
     "metadata": {},
     "output_type": "execute_result"
    }
   ],
   "source": [
    "# lets look at the first 5 rows of data in this column\n",
    "df.xcoord.head(), df.ycoord.head()  # and we see the 4th row has no coordinate in either"
   ]
  },
  {
   "cell_type": "markdown",
   "metadata": {},
   "source": [
    "##### Finding an empty row  in the first 5 of 12405 rows is _sheer luck_. If the first 5 rows were geocoded, that error would not have been observed. How could we search for these? \n",
    "\n",
    "Since these are `str`, they won't have any `'NaN'` values.  Rather than visually parse this for bad data, lets assume that any cells without coordinates have some other value within them (or are empty strings, especially since we stripped zeros).  If we sort for the most frequent value in this column, it might return a default string value when there is no location information."
   ]
  },
  {
   "cell_type": "code",
   "execution_count": 12,
   "metadata": {},
   "outputs": [
    {
     "data": {
      "text/plain": [
       "('', '')"
      ]
     },
     "execution_count": 12,
     "metadata": {},
     "output_type": "execute_result"
    }
   ],
   "source": [
    "# check to see what the most common value\n",
    "# .idxmax() returns the most common value in a column\n",
    "df.xcoord.value_counts().idxmax(), df.ycoord.value_counts().idxmax()  # answer will an empty string value ('')"
   ]
  },
  {
   "cell_type": "markdown",
   "metadata": {},
   "source": [
    "##### after identifying the cell value that indicates ***not geocoded***,  now remove ungeocoded cells from the dataframe\n",
    "This will occur in 2 phases.  In the first,  replace all empty strings `''`, with `'NaN'`, and then check the datashape for comparison after phase 2.  In phase 2, we will drop all rows with `'NaN'` values in the columns specified, and then check the shape to verify that rows were dropped. "
   ]
  },
  {
   "cell_type": "code",
   "execution_count": 13,
   "metadata": {},
   "outputs": [
    {
     "data": {
      "text/plain": [
       "(12404, 28)"
      ]
     },
     "execution_count": 13,
     "metadata": {},
     "output_type": "execute_result"
    }
   ],
   "source": [
    "# replace empty strings with NaN\n",
    "df['xcoord'].replace('', np.nan, inplace=True)\n",
    "df['ycoord'].replace('', np.nan, inplace=True)\n",
    "\n",
    "df.shape # check number of rows here for comparison with result of next step"
   ]
  },
  {
   "cell_type": "code",
   "execution_count": 14,
   "metadata": {},
   "outputs": [
    {
     "data": {
      "text/plain": [
       "(12053, 28)"
      ]
     },
     "execution_count": 14,
     "metadata": {},
     "output_type": "execute_result"
    }
   ],
   "source": [
    "# Now drop the null values\n",
    "df.dropna(subset=['xcoord'], inplace=True)\n",
    "df.dropna(subset=['ycoord'], inplace=True)\n",
    "df.shape # check number of rows here for comparison with result of previous step to verify removal"
   ]
  },
  {
   "cell_type": "markdown",
   "metadata": {},
   "source": [
    "#### # to be useful later, we need numerical values (for now, integers), not Strings. \n",
    "Converting the coordinates into numerical values is paramount. "
   ]
  },
  {
   "cell_type": "code",
   "execution_count": 15,
   "metadata": {},
   "outputs": [
    {
     "data": {
      "text/html": [
       "<div>\n",
       "<style scoped>\n",
       "    .dataframe tbody tr th:only-of-type {\n",
       "        vertical-align: middle;\n",
       "    }\n",
       "\n",
       "    .dataframe tbody tr th {\n",
       "        vertical-align: top;\n",
       "    }\n",
       "\n",
       "    .dataframe thead th {\n",
       "        text-align: right;\n",
       "    }\n",
       "</style>\n",
       "<table border=\"1\" class=\"dataframe\">\n",
       "  <thead>\n",
       "    <tr style=\"text-align: right;\">\n",
       "      <th></th>\n",
       "      <th>pct</th>\n",
       "      <th>datestop</th>\n",
       "      <th>timestop</th>\n",
       "      <th>crimsusp</th>\n",
       "      <th>arstmade</th>\n",
       "      <th>arstoffn</th>\n",
       "      <th>sumissue</th>\n",
       "      <th>sumoffen</th>\n",
       "      <th>frisked</th>\n",
       "      <th>searched</th>\n",
       "      <th>...</th>\n",
       "      <th>pf_baton</th>\n",
       "      <th>pf_hcuff</th>\n",
       "      <th>pf_pepsp</th>\n",
       "      <th>pf_other</th>\n",
       "      <th>sex</th>\n",
       "      <th>race</th>\n",
       "      <th>age</th>\n",
       "      <th>city</th>\n",
       "      <th>xcoord</th>\n",
       "      <th>ycoord</th>\n",
       "    </tr>\n",
       "  </thead>\n",
       "  <tbody>\n",
       "    <tr>\n",
       "      <td>0</td>\n",
       "      <td>41</td>\n",
       "      <td>2072016</td>\n",
       "      <td>100</td>\n",
       "      <td>BURG</td>\n",
       "      <td>N</td>\n",
       "      <td></td>\n",
       "      <td>Y</td>\n",
       "      <td>TRESPAS</td>\n",
       "      <td>Y</td>\n",
       "      <td>Y</td>\n",
       "      <td>...</td>\n",
       "      <td>N</td>\n",
       "      <td>Y</td>\n",
       "      <td>N</td>\n",
       "      <td>N</td>\n",
       "      <td>M</td>\n",
       "      <td>B</td>\n",
       "      <td>48</td>\n",
       "      <td>BRONX</td>\n",
       "      <td>1013353</td>\n",
       "      <td>234000</td>\n",
       "    </tr>\n",
       "    <tr>\n",
       "      <td>1</td>\n",
       "      <td>10</td>\n",
       "      <td>2182016</td>\n",
       "      <td>30</td>\n",
       "      <td>MISDEMEANOR</td>\n",
       "      <td>N</td>\n",
       "      <td></td>\n",
       "      <td>N</td>\n",
       "      <td></td>\n",
       "      <td>N</td>\n",
       "      <td>Y</td>\n",
       "      <td>...</td>\n",
       "      <td>N</td>\n",
       "      <td>N</td>\n",
       "      <td>N</td>\n",
       "      <td>N</td>\n",
       "      <td>M</td>\n",
       "      <td>W</td>\n",
       "      <td>20</td>\n",
       "      <td>MANHATTAN</td>\n",
       "      <td>983478</td>\n",
       "      <td>212373</td>\n",
       "    </tr>\n",
       "    <tr>\n",
       "      <td>2</td>\n",
       "      <td>66</td>\n",
       "      <td>1012016</td>\n",
       "      <td>30</td>\n",
       "      <td>FEL</td>\n",
       "      <td>Y</td>\n",
       "      <td>ASSAULT</td>\n",
       "      <td>N</td>\n",
       "      <td></td>\n",
       "      <td>Y</td>\n",
       "      <td>Y</td>\n",
       "      <td>...</td>\n",
       "      <td>N</td>\n",
       "      <td>N</td>\n",
       "      <td>N</td>\n",
       "      <td>N</td>\n",
       "      <td>M</td>\n",
       "      <td>P</td>\n",
       "      <td>34</td>\n",
       "      <td>BROOKLYN</td>\n",
       "      <td>988340</td>\n",
       "      <td>172111</td>\n",
       "    </tr>\n",
       "    <tr>\n",
       "      <td>4</td>\n",
       "      <td>79</td>\n",
       "      <td>1012016</td>\n",
       "      <td>50</td>\n",
       "      <td>D.W.I.</td>\n",
       "      <td>N</td>\n",
       "      <td></td>\n",
       "      <td>N</td>\n",
       "      <td></td>\n",
       "      <td>N</td>\n",
       "      <td>N</td>\n",
       "      <td>...</td>\n",
       "      <td>N</td>\n",
       "      <td>N</td>\n",
       "      <td>N</td>\n",
       "      <td>N</td>\n",
       "      <td>M</td>\n",
       "      <td>B</td>\n",
       "      <td>22</td>\n",
       "      <td>BROOKLYN</td>\n",
       "      <td>998197</td>\n",
       "      <td>187413</td>\n",
       "    </tr>\n",
       "    <tr>\n",
       "      <td>5</td>\n",
       "      <td>73</td>\n",
       "      <td>1012016</td>\n",
       "      <td>100</td>\n",
       "      <td>FELONY</td>\n",
       "      <td>N</td>\n",
       "      <td></td>\n",
       "      <td>N</td>\n",
       "      <td></td>\n",
       "      <td>Y</td>\n",
       "      <td>N</td>\n",
       "      <td>...</td>\n",
       "      <td>N</td>\n",
       "      <td>N</td>\n",
       "      <td>N</td>\n",
       "      <td>N</td>\n",
       "      <td>M</td>\n",
       "      <td>B</td>\n",
       "      <td>30</td>\n",
       "      <td>BROOKLYN</td>\n",
       "      <td>1008226</td>\n",
       "      <td>186458</td>\n",
       "    </tr>\n",
       "  </tbody>\n",
       "</table>\n",
       "<p>5 rows × 28 columns</p>\n",
       "</div>"
      ],
      "text/plain": [
       "  pct datestop timestop     crimsusp arstmade arstoffn sumissue sumoffen  \\\n",
       "0  41  2072016      100         BURG        N                 Y  TRESPAS   \n",
       "1  10  2182016       30  MISDEMEANOR        N                 N            \n",
       "2  66  1012016       30          FEL        Y  ASSAULT        N            \n",
       "4  79  1012016       50       D.W.I.        N                 N            \n",
       "5  73  1012016      100       FELONY        N                 N            \n",
       "\n",
       "  frisked searched  ... pf_baton pf_hcuff pf_pepsp pf_other sex race age  \\\n",
       "0       Y        Y  ...        N        Y        N        N   M    B  48   \n",
       "1       N        Y  ...        N        N        N        N   M    W  20   \n",
       "2       Y        Y  ...        N        N        N        N   M    P  34   \n",
       "4       N        N  ...        N        N        N        N   M    B  22   \n",
       "5       Y        N  ...        N        N        N        N   M    B  30   \n",
       "\n",
       "        city   xcoord  ycoord  \n",
       "0      BRONX  1013353  234000  \n",
       "1  MANHATTAN   983478  212373  \n",
       "2   BROOKLYN   988340  172111  \n",
       "4   BROOKLYN   998197  187413  \n",
       "5   BROOKLYN  1008226  186458  \n",
       "\n",
       "[5 rows x 28 columns]"
      ]
     },
     "execution_count": 15,
     "metadata": {},
     "output_type": "execute_result"
    }
   ],
   "source": [
    "df.head()"
   ]
  },
  {
   "cell_type": "code",
   "execution_count": 16,
   "metadata": {},
   "outputs": [
    {
     "data": {
      "text/plain": [
       "983478"
      ]
     },
     "execution_count": 16,
     "metadata": {},
     "output_type": "execute_result"
    }
   ],
   "source": [
    "# convert strings to integers\n",
    "df.xcoord = pd.to_numeric(df.xcoord, errors='ignore')\n",
    "df.ycoord = pd.to_numeric(df.ycoord, errors='ignore')\n",
    "df.xcoord[1]"
   ]
  },
  {
   "cell_type": "markdown",
   "metadata": {},
   "source": [
    "##### After deleting some rows, resetting the index is important.  \n",
    "But before that happens, reordering chronologically might be useful.  First, convert strings to integers, then sort in chronological order, then reset the index.  "
   ]
  },
  {
   "cell_type": "code",
   "execution_count": 17,
   "metadata": {},
   "outputs": [],
   "source": [
    "df.datestop = df['datestop'].apply(int)\n",
    "df.sort_values(by=['datestop'],inplace = True) # sort dataframe by 'date', will sort smallest to largest value, so january 1 will be first! "
   ]
  },
  {
   "cell_type": "code",
   "execution_count": 18,
   "metadata": {},
   "outputs": [
    {
     "name": "stdout",
     "output_type": "stream",
     "text": [
      "0    1012016\n",
      "1    1012016\n",
      "2    1012016\n",
      "3    1012016\n",
      "4    1012016\n",
      "Name: datestop, dtype: int64\n",
      "12048    12312016\n",
      "12049    12312016\n",
      "12050    12312016\n",
      "12051    12312016\n",
      "12052    12312016\n",
      "Name: datestop, dtype: int64\n"
     ]
    },
    {
     "data": {
      "text/plain": [
       "(None, None)"
      ]
     },
     "execution_count": 18,
     "metadata": {},
     "output_type": "execute_result"
    }
   ],
   "source": [
    "# reset index\n",
    "df = df.reset_index()\n",
    "\n",
    "# delete prior index\n",
    "del df['index'] \n",
    "print(df.datestop.head()), print(df.datestop.tail())  #note these first 5 values are all on jan 1 2016, verifying it worked! "
   ]
  },
  {
   "cell_type": "markdown",
   "metadata": {},
   "source": [
    "#### Lets drill into the dataset a bit with some queries."
   ]
  },
  {
   "cell_type": "markdown",
   "metadata": {},
   "source": [
    "##### which precinct had the most number of stop and frisks in 2016?  Let's figure that out and end up with a dataframe for merging with our Precincts GeoJson"
   ]
  },
  {
   "cell_type": "code",
   "execution_count": 19,
   "metadata": {},
   "outputs": [
    {
     "data": {
      "text/plain": [
       "106    1217\n",
       "49      553\n",
       "114     373\n",
       "40      370\n",
       "23      365\n",
       "Name: pct, dtype: int64"
      ]
     },
     "execution_count": 19,
     "metadata": {},
     "output_type": "execute_result"
    }
   ],
   "source": [
    "# extract series from df \n",
    "counts = df['pct'].value_counts()\n",
    "counts.head()"
   ]
  },
  {
   "cell_type": "code",
   "execution_count": 20,
   "metadata": {},
   "outputs": [
    {
     "data": {
      "text/plain": [
       "(pandas.core.frame.DataFrame,\n",
       " (77, 2),\n",
       " Index(['index', 'pct'], dtype='object'),\n",
       "   index   pct\n",
       " 0   106  1217\n",
       " 1    49   553\n",
       " 2   114   373\n",
       " 3    40   370\n",
       " 4    23   365)"
      ]
     },
     "execution_count": 20,
     "metadata": {},
     "output_type": "execute_result"
    }
   ],
   "source": [
    "# convert series to pandas dataframe & reset index\n",
    "counts = pd.DataFrame(counts).reset_index()\n",
    "type(counts), counts.shape, counts.columns, counts.head()"
   ]
  },
  {
   "cell_type": "code",
   "execution_count": 21,
   "metadata": {},
   "outputs": [
    {
     "data": {
      "text/plain": [
       "(  precinct  counts\n",
       " 0      106    1217\n",
       " 1       49     553\n",
       " 2      114     373\n",
       " 3       40     370\n",
       " 4       23     365, pandas.core.frame.DataFrame)"
      ]
     },
     "execution_count": 21,
     "metadata": {},
     "output_type": "execute_result"
    }
   ],
   "source": [
    "# rename columns \n",
    "counts.rename(columns={'index': 'precinct', 'pct': 'counts'}, inplace=True)\n",
    "counts.head(), type(counts)"
   ]
  },
  {
   "cell_type": "markdown",
   "metadata": {},
   "source": [
    "###### we'll park this here and come back when we import the NYPD Precincts geojson "
   ]
  },
  {
   "cell_type": "markdown",
   "metadata": {},
   "source": [
    "##### now, find all instances with 'use of force'"
   ]
  },
  {
   "cell_type": "code",
   "execution_count": 22,
   "metadata": {},
   "outputs": [
    {
     "name": "stdout",
     "output_type": "stream",
     "text": [
      "There were 3773 uses of force during SQF in 2016.\n"
     ]
    }
   ],
   "source": [
    "### find total number of instances of use of force used\n",
    "a = df.loc[(df['pf_pepsp'] == 'Y') | (df['pf_hands'] == 'Y') | (df['pf_wall'] == 'Y') | (df['pf_grnd'] == 'Y') | (df['pf_drwep'] == 'Y') | (df['pf_ptwep'] == 'Y') | (df['pf_baton'] == 'Y') | (df['pf_hcuff'] == 'Y') | (df['pf_other'] == 'Y')]\n",
    "count = str(a.shape[0])\n",
    "print('There were ' + count + ' uses of force during SQF in 2016.')"
   ]
  },
  {
   "cell_type": "markdown",
   "metadata": {},
   "source": [
    "#### find all instances of minors in the Bronx caught with pistols"
   ]
  },
  {
   "cell_type": "code",
   "execution_count": 23,
   "metadata": {},
   "outputs": [
    {
     "name": "stdout",
     "output_type": "stream",
     "text": [
      "      pct  datestop timestop crimsusp arstmade        arstoffn sumissue  \\\n",
      "3284   40   3152016     1628   FELONY        Y  PL 265.03 (01)        N   \n",
      "6847   40   6122016        0      CPW        Y             CPW        N   \n",
      "7409   45   6302016     1520     MISD        Y             CPW        N   \n",
      "9172   48   9012016     1815      CPW        Y             CPW        N   \n",
      "9182   48   9012016     1815      CPW        Y             CPW        N   \n",
      "9966   40  10032016     1820      CPW        N                        N   \n",
      "11485  46  11292016     1834      CPW        Y             CPW        N   \n",
      "\n",
      "      sumoffen frisked searched  ... pf_baton pf_hcuff pf_pepsp pf_other sex  \\\n",
      "3284                 Y        Y  ...        N        Y        N        N   M   \n",
      "6847                 Y        N  ...        N        Y        N        N   M   \n",
      "7409                 N        Y  ...        N        Y        N        N   M   \n",
      "9172                 Y        Y  ...        N        N        N        Y   M   \n",
      "9182                 Y        Y  ...        N        N        N        N   M   \n",
      "9966                 Y        Y  ...        N        N        N        N   M   \n",
      "11485                Y        Y  ...        N        Y        N        N   M   \n",
      "\n",
      "      race age   city   xcoord  ycoord  \n",
      "3284     P  16  BRONX  1005599  235599  \n",
      "6847     P  15  BRONX  1007791  236192  \n",
      "7409     B  14  BRONX  1026992  245049  \n",
      "9172     P  17  BRONX  1016088  248007  \n",
      "9182     Q  17  BRONX  1016088  248007  \n",
      "9966     B  17  BRONX  1006109  234993  \n",
      "11485    Q  17  BRONX  1011760  252579  \n",
      "\n",
      "[7 rows x 28 columns]\n"
     ]
    }
   ],
   "source": [
    "df['pistol'].unique() # verify that values are present\n",
    "a = df.loc[df['pistol'].isin(['Y']) & (df['city'] == 'BRONX') & (df['age'] < '18')] # query for various conditions\n",
    "print(a)"
   ]
  },
  {
   "cell_type": "code",
   "execution_count": 24,
   "metadata": {},
   "outputs": [],
   "source": [
    "# stash the data locally as json\n",
    "with open('./data/2016stops.json', 'w') as f:\n",
    "    f.write(df.to_json())"
   ]
  },
  {
   "cell_type": "markdown",
   "metadata": {},
   "source": [
    "##### now verify the file was written "
   ]
  },
  {
   "cell_type": "code",
   "execution_count": 25,
   "metadata": {},
   "outputs": [
    {
     "name": "stdout",
     "output_type": "stream",
     "text": [
      "sqf-2016.csv\n",
      "2016stops.json\n",
      "nypd-precincts.geojson\n"
     ]
    }
   ],
   "source": [
    "# imports the OS module, using the .walk() method returns information about the current working directory. \n",
    "import os\n",
    "for root, dirs, files in os.walk('./data/'):\n",
    "    for filename in files:\n",
    "        print(filename)"
   ]
  },
  {
   "cell_type": "markdown",
   "metadata": {},
   "source": [
    "#### so, we've got a JSON.  To continue, we'll need to define geometry for this using Shapely, prior to converting into a GeoDataFrame for all our awesome web-mapping applications downstream.  "
   ]
  },
  {
   "cell_type": "markdown",
   "metadata": {},
   "source": [
    "##### Importing geopandas and shapely modules will allow convert coordinates into points with a projection.  "
   ]
  },
  {
   "cell_type": "code",
   "execution_count": 26,
   "metadata": {},
   "outputs": [],
   "source": [
    "import geopandas as gpd\n",
    "from shapely.geometry import Point, Polygon, MultiPolygon, mapping"
   ]
  },
  {
   "cell_type": "markdown",
   "metadata": {},
   "source": [
    "##### access JSON that we created and stashed locally and load as dataframe"
   ]
  },
  {
   "cell_type": "code",
   "execution_count": 27,
   "metadata": {},
   "outputs": [
    {
     "data": {
      "text/plain": [
       "(pandas.core.frame.DataFrame,\n",
       "    pct  datestop  timestop     crimsusp arstmade           arstoffn sumissue  \\\n",
       " 0  115   1012016      2012     BURGLARY        Y  CRIMINAL TRESPASS        N   \n",
       " 1   81   1012016      1525       FELONY        N                           N   \n",
       " 2   81   1012016      1535       FELONY        N                           N   \n",
       " 3   14   1012016      1645          FEL        N                           N   \n",
       " 4   90   1012016      1700  MISDEMEANOR        N                           N   \n",
       " \n",
       "   sumoffen frisked searched  ... pf_baton pf_hcuff pf_pepsp pf_other sex race  \\\n",
       " 0                Y        Y  ...        N        Y        N        N   M    Q   \n",
       " 1                Y        Y  ...        N        N        N        N   M    B   \n",
       " 2                Y        Y  ...        N        N        N        N   M    B   \n",
       " 3                Y        N  ...        N        N        N        N   M    W   \n",
       " 4                N        N  ...        N        N        N        N   M    W   \n",
       " \n",
       "   age       city   xcoord  ycoord  \n",
       " 0  29     QUEENS  1021102  213296  \n",
       " 1  21   BROOKLYN  1006272  189184  \n",
       " 2  22   BROOKLYN  1006272  189184  \n",
       " 3  20  MANHATTAN   987866  214721  \n",
       " 4  25   BROOKLYN  1002739  196254  \n",
       " \n",
       " [5 rows x 28 columns])"
      ]
     },
     "execution_count": 27,
     "metadata": {},
     "output_type": "execute_result"
    }
   ],
   "source": [
    "path_to_file = './data/2016stops.json'\n",
    "df = pd.read_json(path_to_file) # load csv data as pandas DataFrame\n",
    "type(df), df.head()"
   ]
  },
  {
   "cell_type": "markdown",
   "metadata": {},
   "source": [
    "##### create the geometry...\n",
    "this requires us to know the projection that the `xcoord` and `ycoord` were presented.  after a bit of digging, I was able to determine that NYPD used ESPG:2263 as the projected coordinate system.  "
   ]
  },
  {
   "cell_type": "code",
   "execution_count": 28,
   "metadata": {},
   "outputs": [
    {
     "data": {
      "text/html": [
       "<div>\n",
       "<style scoped>\n",
       "    .dataframe tbody tr th:only-of-type {\n",
       "        vertical-align: middle;\n",
       "    }\n",
       "\n",
       "    .dataframe tbody tr th {\n",
       "        vertical-align: top;\n",
       "    }\n",
       "\n",
       "    .dataframe thead th {\n",
       "        text-align: right;\n",
       "    }\n",
       "</style>\n",
       "<table border=\"1\" class=\"dataframe\">\n",
       "  <thead>\n",
       "    <tr style=\"text-align: right;\">\n",
       "      <th></th>\n",
       "      <th>pct</th>\n",
       "      <th>datestop</th>\n",
       "      <th>timestop</th>\n",
       "      <th>crimsusp</th>\n",
       "      <th>arstmade</th>\n",
       "      <th>arstoffn</th>\n",
       "      <th>sumissue</th>\n",
       "      <th>sumoffen</th>\n",
       "      <th>frisked</th>\n",
       "      <th>searched</th>\n",
       "      <th>...</th>\n",
       "      <th>pf_ptwep</th>\n",
       "      <th>pf_baton</th>\n",
       "      <th>pf_hcuff</th>\n",
       "      <th>pf_pepsp</th>\n",
       "      <th>pf_other</th>\n",
       "      <th>sex</th>\n",
       "      <th>race</th>\n",
       "      <th>age</th>\n",
       "      <th>city</th>\n",
       "      <th>geometry</th>\n",
       "    </tr>\n",
       "  </thead>\n",
       "  <tbody>\n",
       "    <tr>\n",
       "      <td>0</td>\n",
       "      <td>115</td>\n",
       "      <td>1012016</td>\n",
       "      <td>2012</td>\n",
       "      <td>BURGLARY</td>\n",
       "      <td>Y</td>\n",
       "      <td>CRIMINAL TRESPASS</td>\n",
       "      <td>N</td>\n",
       "      <td></td>\n",
       "      <td>Y</td>\n",
       "      <td>Y</td>\n",
       "      <td>...</td>\n",
       "      <td>N</td>\n",
       "      <td>N</td>\n",
       "      <td>Y</td>\n",
       "      <td>N</td>\n",
       "      <td>N</td>\n",
       "      <td>M</td>\n",
       "      <td>Q</td>\n",
       "      <td>29</td>\n",
       "      <td>QUEENS</td>\n",
       "      <td>POINT (1021102 213296)</td>\n",
       "    </tr>\n",
       "    <tr>\n",
       "      <td>1</td>\n",
       "      <td>81</td>\n",
       "      <td>1012016</td>\n",
       "      <td>1525</td>\n",
       "      <td>FELONY</td>\n",
       "      <td>N</td>\n",
       "      <td></td>\n",
       "      <td>N</td>\n",
       "      <td></td>\n",
       "      <td>Y</td>\n",
       "      <td>Y</td>\n",
       "      <td>...</td>\n",
       "      <td>N</td>\n",
       "      <td>N</td>\n",
       "      <td>N</td>\n",
       "      <td>N</td>\n",
       "      <td>N</td>\n",
       "      <td>M</td>\n",
       "      <td>B</td>\n",
       "      <td>21</td>\n",
       "      <td>BROOKLYN</td>\n",
       "      <td>POINT (1006272 189184)</td>\n",
       "    </tr>\n",
       "    <tr>\n",
       "      <td>2</td>\n",
       "      <td>81</td>\n",
       "      <td>1012016</td>\n",
       "      <td>1535</td>\n",
       "      <td>FELONY</td>\n",
       "      <td>N</td>\n",
       "      <td></td>\n",
       "      <td>N</td>\n",
       "      <td></td>\n",
       "      <td>Y</td>\n",
       "      <td>Y</td>\n",
       "      <td>...</td>\n",
       "      <td>N</td>\n",
       "      <td>N</td>\n",
       "      <td>N</td>\n",
       "      <td>N</td>\n",
       "      <td>N</td>\n",
       "      <td>M</td>\n",
       "      <td>B</td>\n",
       "      <td>22</td>\n",
       "      <td>BROOKLYN</td>\n",
       "      <td>POINT (1006272 189184)</td>\n",
       "    </tr>\n",
       "    <tr>\n",
       "      <td>3</td>\n",
       "      <td>14</td>\n",
       "      <td>1012016</td>\n",
       "      <td>1645</td>\n",
       "      <td>FEL</td>\n",
       "      <td>N</td>\n",
       "      <td></td>\n",
       "      <td>N</td>\n",
       "      <td></td>\n",
       "      <td>Y</td>\n",
       "      <td>N</td>\n",
       "      <td>...</td>\n",
       "      <td>N</td>\n",
       "      <td>N</td>\n",
       "      <td>N</td>\n",
       "      <td>N</td>\n",
       "      <td>N</td>\n",
       "      <td>M</td>\n",
       "      <td>W</td>\n",
       "      <td>20</td>\n",
       "      <td>MANHATTAN</td>\n",
       "      <td>POINT (987866 214721)</td>\n",
       "    </tr>\n",
       "    <tr>\n",
       "      <td>4</td>\n",
       "      <td>90</td>\n",
       "      <td>1012016</td>\n",
       "      <td>1700</td>\n",
       "      <td>MISDEMEANOR</td>\n",
       "      <td>N</td>\n",
       "      <td></td>\n",
       "      <td>N</td>\n",
       "      <td></td>\n",
       "      <td>N</td>\n",
       "      <td>N</td>\n",
       "      <td>...</td>\n",
       "      <td>N</td>\n",
       "      <td>N</td>\n",
       "      <td>N</td>\n",
       "      <td>N</td>\n",
       "      <td>N</td>\n",
       "      <td>M</td>\n",
       "      <td>W</td>\n",
       "      <td>25</td>\n",
       "      <td>BROOKLYN</td>\n",
       "      <td>POINT (1002739 196254)</td>\n",
       "    </tr>\n",
       "  </tbody>\n",
       "</table>\n",
       "<p>5 rows × 27 columns</p>\n",
       "</div>"
      ],
      "text/plain": [
       "   pct  datestop  timestop     crimsusp arstmade           arstoffn sumissue  \\\n",
       "0  115   1012016      2012     BURGLARY        Y  CRIMINAL TRESPASS        N   \n",
       "1   81   1012016      1525       FELONY        N                           N   \n",
       "2   81   1012016      1535       FELONY        N                           N   \n",
       "3   14   1012016      1645          FEL        N                           N   \n",
       "4   90   1012016      1700  MISDEMEANOR        N                           N   \n",
       "\n",
       "  sumoffen frisked searched  ... pf_ptwep pf_baton pf_hcuff pf_pepsp pf_other  \\\n",
       "0                Y        Y  ...        N        N        Y        N        N   \n",
       "1                Y        Y  ...        N        N        N        N        N   \n",
       "2                Y        Y  ...        N        N        N        N        N   \n",
       "3                Y        N  ...        N        N        N        N        N   \n",
       "4                N        N  ...        N        N        N        N        N   \n",
       "\n",
       "  sex race age       city                geometry  \n",
       "0   M    Q  29     QUEENS  POINT (1021102 213296)  \n",
       "1   M    B  21   BROOKLYN  POINT (1006272 189184)  \n",
       "2   M    B  22   BROOKLYN  POINT (1006272 189184)  \n",
       "3   M    W  20  MANHATTAN   POINT (987866 214721)  \n",
       "4   M    W  25   BROOKLYN  POINT (1002739 196254)  \n",
       "\n",
       "[5 rows x 27 columns]"
      ]
     },
     "execution_count": 28,
     "metadata": {},
     "output_type": "execute_result"
    }
   ],
   "source": [
    "# create geometry using Shapely Point & assign proper projection\n",
    "geometry = [Point(xy) for xy in zip(df.xcoord, df.ycoord)]\n",
    "df = df.drop(['xcoord', 'ycoord'], axis=1)\n",
    "crs = {'init': 'epsg:2263'}\n",
    "gdf = gpd.GeoDataFrame(df, crs=crs, geometry=geometry)\n",
    "gdf.head()"
   ]
  },
  {
   "cell_type": "markdown",
   "metadata": {},
   "source": [
    "##### reproject data to web-map ready EPSG:4326"
   ]
  },
  {
   "cell_type": "code",
   "execution_count": 29,
   "metadata": {},
   "outputs": [
    {
     "data": {
      "text/plain": [
       "{'init': 'epsg:4326', 'no_defs': True}"
      ]
     },
     "execution_count": 29,
     "metadata": {},
     "output_type": "execute_result"
    }
   ],
   "source": [
    "gdf.to_crs(epsg=4326, inplace=True)\n",
    "#gdf.to_crs({'init': 'epsg:4269'})\n",
    "gdf.crs"
   ]
  },
  {
   "cell_type": "markdown",
   "metadata": {},
   "source": [
    "##### visualize the data (are we mapping yet?), but first we'll need to import some plotting tools. "
   ]
  },
  {
   "cell_type": "code",
   "execution_count": 30,
   "metadata": {},
   "outputs": [],
   "source": [
    "# import plotter \n",
    "%matplotlib inline\n",
    "\n",
    "import matplotlib.pyplot as plt\n",
    "# change default figsize\n",
    "plt.rcParams['figure.figsize'] = (30, 24)"
   ]
  },
  {
   "cell_type": "code",
   "execution_count": 31,
   "metadata": {},
   "outputs": [
    {
     "data": {
      "image/png": "[encoded data removed]",
      "text/plain": [
       "<Figure size 432x288 with 1 Axes>"
      ]
     },
     "metadata": {
      "needs_background": "light"
     },
     "output_type": "display_data"
    }
   ],
   "source": [
    "fig, ax = plt.subplots()\n",
    " \n",
    "base_color = '#f0f0f0'\n",
    "border_color = base_color\n",
    " \n",
    "gdf.plot(ax=ax, color='red', alpha=0.1, zorder=0, label='stops');  #low opacity adds a heatmap effect at this scale.  unintentional\n",
    " \n",
    "ax.set(title=\"stop and frisks 2016\",\n",
    "       xlabel=\"X coordinates\",\n",
    "       ylabel=\"Y coordinates\") \n",
    "ax.legend();"
   ]
  },
  {
   "cell_type": "markdown",
   "metadata": {},
   "source": [
    "#### its alive!  bring in some other data to see if everything appears to be in order"
   ]
  },
  {
   "cell_type": "code",
   "execution_count": 32,
   "metadata": {
    "scrolled": true
   },
   "outputs": [],
   "source": [
    "# import datasets\n",
    "pr = gpd.read_file('./data/nypd-precincts.geojson') # import precincts geometry"
   ]
  },
  {
   "cell_type": "markdown",
   "metadata": {},
   "source": [
    "##### first double-check the CRS on the data"
   ]
  },
  {
   "cell_type": "code",
   "execution_count": 33,
   "metadata": {},
   "outputs": [
    {
     "data": {
      "text/plain": [
       "{'init': 'epsg:4326'}"
      ]
     },
     "execution_count": 33,
     "metadata": {},
     "output_type": "execute_result"
    }
   ],
   "source": [
    "# check CRS\n",
    "pr.crs"
   ]
  },
  {
   "cell_type": "code",
   "execution_count": 39,
   "metadata": {},
   "outputs": [
    {
     "data": {
      "text/plain": [
       "[(40.25, 41), (-74.3, -73.6)]"
      ]
     },
     "execution_count": 39,
     "metadata": {},
     "output_type": "execute_result"
    },
    {
     "data": {
      "image/png": "[encoded data removed]",
      "text/plain": [
       "<Figure size 432x288 with 1 Axes>"
      ]
     },
     "metadata": {
      "needs_background": "light"
     },
     "output_type": "display_data"
    }
   ],
   "source": [
    "# let's visualize these new layers\n",
    "fig, ax = plt.subplots()\n",
    " \n",
    "base_color = 'white'\n",
    "border_color = base_color\n",
    "\n",
    "# layers to print\n",
    "gdf.plot(ax=ax, color='red', alpha=0.04, zorder=3, label='stops');  #low opacity adds a heatmap effect at this scale.  unintentional\n",
    "pr.plot(ax=ax, edgecolor='black', color='white', alpha=1, legend = True, zorder=2);\n",
    "\n",
    "# add title and labels\n",
    "ax.set(title=\"stop and frisks by Precinct\",\n",
    "       xlabel=\"X coordinates\",\n",
    "       ylabel=\"Y coordinates\") \n",
    "\n",
    "# reset bounds to match NYC data\n",
    "ax.set(xlim=(-74.3,-73.6), ylim=(40.25,41))"
   ]
  },
  {
   "cell_type": "markdown",
   "metadata": {},
   "source": [
    "##### let's merge the precinct \"counts\" into the precincts geojson"
   ]
  },
  {
   "cell_type": "code",
   "execution_count": 40,
   "metadata": {},
   "outputs": [
    {
     "data": {
      "text/plain": [
       "Index(['precinct', 'shape_area', 'shape_leng', 'geometry', 'counts'], dtype='object')"
      ]
     },
     "execution_count": 40,
     "metadata": {},
     "output_type": "execute_result"
    }
   ],
   "source": [
    "# check the columns\n",
    "pr.columns"
   ]
  },
  {
   "cell_type": "code",
   "execution_count": 41,
   "metadata": {},
   "outputs": [
    {
     "data": {
      "text/plain": [
       "(str, str)"
      ]
     },
     "execution_count": 41,
     "metadata": {},
     "output_type": "execute_result"
    }
   ],
   "source": [
    "# first check data types to make sure they match up\n",
    "type(counts.precinct[0]), type(pr.precinct[0])"
   ]
  },
  {
   "cell_type": "code",
   "execution_count": 42,
   "metadata": {},
   "outputs": [
    {
     "data": {
      "text/plain": [
       "(str, str)"
      ]
     },
     "execution_count": 42,
     "metadata": {},
     "output_type": "execute_result"
    }
   ],
   "source": [
    "# convert integer to string\n",
    "pr.precinct = pr.precinct.astype(str)\n",
    "\n",
    "# first check data types to make sure they match up\n",
    "type(counts.precinct[0]), type(pr.precinct[0])"
   ]
  },
  {
   "cell_type": "code",
   "execution_count": 43,
   "metadata": {},
   "outputs": [
    {
     "name": "stdout",
     "output_type": "stream",
     "text": [
      "   precinct     shape_area     shape_leng  \\\n",
      "0         1  47313318.0761  80563.0640816   \n",
      "1         5  18088797.9526  18676.1242594   \n",
      "2         6  22098189.8026  26402.9006691   \n",
      "3        71  45331787.1744  29978.0942611   \n",
      "4        72  104621257.743  87968.1945199   \n",
      "..      ...            ...            ...   \n",
      "72      115  113293878.523  58272.2043476   \n",
      "73      120  232535326.782  96171.7239832   \n",
      "74      121  475716087.709  138115.721207   \n",
      "75      122  454799251.518   154881.00631   \n",
      "76      123  460870016.224  120830.181066   \n",
      "\n",
      "                                             geometry  counts_x  counts_y  \n",
      "0   (POLYGON ((-74.0438776157395 40.69018767637665...        58        58  \n",
      "1   (POLYGON ((-73.98863862848766 40.7229337202636...        93        93  \n",
      "2   (POLYGON ((-73.99968392160721 40.7385522486597...        31        31  \n",
      "3   (POLYGON ((-73.92854313809303 40.6645732858473...       191       191  \n",
      "4   (POLYGON ((-73.99840899113158 40.6718687230323...       123       123  \n",
      "..                                                ...       ...       ...  \n",
      "72  (POLYGON ((-73.85907893495997 40.7625228322724...       136       136  \n",
      "73  (POLYGON ((-74.05356753570328 40.6036964668284...       217       217  \n",
      "74  (POLYGON ((-74.15945602438185 40.6414483333240...        92        92  \n",
      "75  (POLYGON ((-74.05050806403284 40.5664220346634...       244       244  \n",
      "76  (POLYGON ((-74.16982656393461 40.5610780036905...        86        86  \n",
      "\n",
      "[77 rows x 6 columns]\n"
     ]
    }
   ],
   "source": [
    "# Merge with `merge` method on shared variable (precinct):\n",
    "pr = pr.merge(counts, on='precinct')\n",
    "print(pr)"
   ]
  },
  {
   "cell_type": "markdown",
   "metadata": {},
   "source": [
    "##### Now we can visualize the Precincts geojson, as a chloropeth, with the counts of Stop and Frisk Incidents per precinct as the ramp value. \n",
    "this uses matplotlib's colormap parameter `cmap`"
   ]
  },
  {
   "cell_type": "code",
   "execution_count": 44,
   "metadata": {},
   "outputs": [
    {
     "ename": "KeyError",
     "evalue": "'counts'",
     "output_type": "error",
     "traceback": [
      "\u001b[0;31m---------------------------------------------------------------------------\u001b[0m",
      "\u001b[0;31mKeyError\u001b[0m                                  Traceback (most recent call last)",
      "\u001b[0;32m~/anaconda3/envs/module-06/lib/python3.7/site-packages/pandas/core/indexes/base.py\u001b[0m in \u001b[0;36mget_loc\u001b[0;34m(self, key, method, tolerance)\u001b[0m\n\u001b[1;32m   2896\u001b[0m             \u001b[0;32mtry\u001b[0m\u001b[0;34m:\u001b[0m\u001b[0;34m\u001b[0m\u001b[0;34m\u001b[0m\u001b[0m\n\u001b[0;32m-> 2897\u001b[0;31m                 \u001b[0;32mreturn\u001b[0m \u001b[0mself\u001b[0m\u001b[0;34m.\u001b[0m\u001b[0m_engine\u001b[0m\u001b[0;34m.\u001b[0m\u001b[0mget_loc\u001b[0m\u001b[0;34m(\u001b[0m\u001b[0mkey\u001b[0m\u001b[0;34m)\u001b[0m\u001b[0;34m\u001b[0m\u001b[0;34m\u001b[0m\u001b[0m\n\u001b[0m\u001b[1;32m   2898\u001b[0m             \u001b[0;32mexcept\u001b[0m \u001b[0mKeyError\u001b[0m\u001b[0;34m:\u001b[0m\u001b[0;34m\u001b[0m\u001b[0;34m\u001b[0m\u001b[0m\n",
      "\u001b[0;32mpandas/_libs/index.pyx\u001b[0m in \u001b[0;36mpandas._libs.index.IndexEngine.get_loc\u001b[0;34m()\u001b[0m\n",
      "\u001b[0;32mpandas/_libs/index.pyx\u001b[0m in \u001b[0;36mpandas._libs.index.IndexEngine.get_loc\u001b[0;34m()\u001b[0m\n",
      "\u001b[0;32mpandas/_libs/hashtable_class_helper.pxi\u001b[0m in \u001b[0;36mpandas._libs.hashtable.PyObjectHashTable.get_item\u001b[0;34m()\u001b[0m\n",
      "\u001b[0;32mpandas/_libs/hashtable_class_helper.pxi\u001b[0m in \u001b[0;36mpandas._libs.hashtable.PyObjectHashTable.get_item\u001b[0;34m()\u001b[0m\n",
      "\u001b[0;31mKeyError\u001b[0m: 'counts'",
      "\nDuring handling of the above exception, another exception occurred:\n",
      "\u001b[0;31mKeyError\u001b[0m                                  Traceback (most recent call last)",
      "\u001b[0;32m<ipython-input-44-2e5fb026642e>\u001b[0m in \u001b[0;36m<module>\u001b[0;34m\u001b[0m\n\u001b[1;32m      5\u001b[0m \u001b[0;34m\u001b[0m\u001b[0m\n\u001b[1;32m      6\u001b[0m \u001b[0;31m# layers to print\u001b[0m\u001b[0;34m\u001b[0m\u001b[0;34m\u001b[0m\u001b[0;34m\u001b[0m\u001b[0m\n\u001b[0;32m----> 7\u001b[0;31m \u001b[0mpr\u001b[0m\u001b[0;34m.\u001b[0m\u001b[0mplot\u001b[0m\u001b[0;34m(\u001b[0m\u001b[0max\u001b[0m\u001b[0;34m=\u001b[0m\u001b[0max\u001b[0m\u001b[0;34m,\u001b[0m \u001b[0medgecolor\u001b[0m\u001b[0;34m=\u001b[0m\u001b[0;34m'black'\u001b[0m\u001b[0;34m,\u001b[0m \u001b[0mcolumn\u001b[0m\u001b[0;34m=\u001b[0m\u001b[0;34m'counts'\u001b[0m\u001b[0;34m,\u001b[0m \u001b[0mcmap\u001b[0m \u001b[0;34m=\u001b[0m \u001b[0;34m'RdPu'\u001b[0m\u001b[0;34m,\u001b[0m \u001b[0malpha\u001b[0m\u001b[0;34m=\u001b[0m\u001b[0;36m1\u001b[0m\u001b[0;34m,\u001b[0m \u001b[0mlegend\u001b[0m \u001b[0;34m=\u001b[0m \u001b[0;32mTrue\u001b[0m\u001b[0;34m,\u001b[0m \u001b[0mzorder\u001b[0m\u001b[0;34m=\u001b[0m\u001b[0;36m2\u001b[0m\u001b[0;34m)\u001b[0m\u001b[0;34m;\u001b[0m\u001b[0;34m\u001b[0m\u001b[0;34m\u001b[0m\u001b[0m\n\u001b[0m\u001b[1;32m      8\u001b[0m \u001b[0mgdf\u001b[0m\u001b[0;34m.\u001b[0m\u001b[0mplot\u001b[0m\u001b[0;34m(\u001b[0m\u001b[0max\u001b[0m\u001b[0;34m=\u001b[0m\u001b[0max\u001b[0m\u001b[0;34m,\u001b[0m \u001b[0mmarkersize\u001b[0m\u001b[0;34m=\u001b[0m\u001b[0;36m1\u001b[0m\u001b[0;34m,\u001b[0m \u001b[0malpha\u001b[0m\u001b[0;34m=\u001b[0m\u001b[0;36m1\u001b[0m\u001b[0;34m,\u001b[0m \u001b[0mcolor\u001b[0m\u001b[0;34m=\u001b[0m\u001b[0;34m'black'\u001b[0m\u001b[0;34m,\u001b[0m \u001b[0mzorder\u001b[0m\u001b[0;34m=\u001b[0m\u001b[0;36m3\u001b[0m\u001b[0;34m)\u001b[0m\u001b[0;34m;\u001b[0m  \u001b[0;31m#low opacity adds a heatmap effect at this scale.\u001b[0m\u001b[0;34m\u001b[0m\u001b[0;34m\u001b[0m\u001b[0m\n\u001b[1;32m      9\u001b[0m \u001b[0;34m\u001b[0m\u001b[0m\n",
      "\u001b[0;32m~/anaconda3/envs/module-06/lib/python3.7/site-packages/geopandas/geodataframe.py\u001b[0m in \u001b[0;36mplot\u001b[0;34m(self, *args, **kwargs)\u001b[0m\n\u001b[1;32m    532\u001b[0m         \u001b[0;32mfrom\u001b[0m \u001b[0mthere\u001b[0m\u001b[0;34m.\u001b[0m\u001b[0;34m\u001b[0m\u001b[0;34m\u001b[0m\u001b[0m\n\u001b[1;32m    533\u001b[0m         \"\"\"\n\u001b[0;32m--> 534\u001b[0;31m         \u001b[0;32mreturn\u001b[0m \u001b[0mplot_dataframe\u001b[0m\u001b[0;34m(\u001b[0m\u001b[0mself\u001b[0m\u001b[0;34m,\u001b[0m \u001b[0;34m*\u001b[0m\u001b[0margs\u001b[0m\u001b[0;34m,\u001b[0m \u001b[0;34m**\u001b[0m\u001b[0mkwargs\u001b[0m\u001b[0;34m)\u001b[0m\u001b[0;34m\u001b[0m\u001b[0;34m\u001b[0m\u001b[0m\n\u001b[0m\u001b[1;32m    535\u001b[0m \u001b[0;34m\u001b[0m\u001b[0m\n\u001b[1;32m    536\u001b[0m     \u001b[0mplot\u001b[0m\u001b[0;34m.\u001b[0m\u001b[0m__doc__\u001b[0m \u001b[0;34m=\u001b[0m \u001b[0mplot_dataframe\u001b[0m\u001b[0;34m.\u001b[0m\u001b[0m__doc__\u001b[0m\u001b[0;34m\u001b[0m\u001b[0;34m\u001b[0m\u001b[0m\n",
      "\u001b[0;32m~/anaconda3/envs/module-06/lib/python3.7/site-packages/geopandas/plotting.py\u001b[0m in \u001b[0;36mplot_dataframe\u001b[0;34m(df, column, cmap, color, ax, categorical, legend, scheme, k, vmin, vmax, markersize, figsize, legend_kwds, **style_kwds)\u001b[0m\n\u001b[1;32m    422\u001b[0m             \u001b[0mvalues\u001b[0m \u001b[0;34m=\u001b[0m \u001b[0mnp\u001b[0m\u001b[0;34m.\u001b[0m\u001b[0masarray\u001b[0m\u001b[0;34m(\u001b[0m\u001b[0mcolumn\u001b[0m\u001b[0;34m)\u001b[0m\u001b[0;34m\u001b[0m\u001b[0;34m\u001b[0m\u001b[0m\n\u001b[1;32m    423\u001b[0m     \u001b[0;32melse\u001b[0m\u001b[0;34m:\u001b[0m\u001b[0;34m\u001b[0m\u001b[0;34m\u001b[0m\u001b[0m\n\u001b[0;32m--> 424\u001b[0;31m         \u001b[0mvalues\u001b[0m \u001b[0;34m=\u001b[0m \u001b[0mnp\u001b[0m\u001b[0;34m.\u001b[0m\u001b[0masarray\u001b[0m\u001b[0;34m(\u001b[0m\u001b[0mdf\u001b[0m\u001b[0;34m[\u001b[0m\u001b[0mcolumn\u001b[0m\u001b[0;34m]\u001b[0m\u001b[0;34m)\u001b[0m\u001b[0;34m\u001b[0m\u001b[0;34m\u001b[0m\u001b[0m\n\u001b[0m\u001b[1;32m    425\u001b[0m \u001b[0;34m\u001b[0m\u001b[0m\n\u001b[1;32m    426\u001b[0m     \u001b[0;32mif\u001b[0m \u001b[0mvalues\u001b[0m\u001b[0;34m.\u001b[0m\u001b[0mdtype\u001b[0m \u001b[0;32mis\u001b[0m \u001b[0mnp\u001b[0m\u001b[0;34m.\u001b[0m\u001b[0mdtype\u001b[0m\u001b[0;34m(\u001b[0m\u001b[0;34m'O'\u001b[0m\u001b[0;34m)\u001b[0m\u001b[0;34m:\u001b[0m\u001b[0;34m\u001b[0m\u001b[0;34m\u001b[0m\u001b[0m\n",
      "\u001b[0;32m~/anaconda3/envs/module-06/lib/python3.7/site-packages/geopandas/geodataframe.py\u001b[0m in \u001b[0;36m__getitem__\u001b[0;34m(self, key)\u001b[0m\n\u001b[1;32m    453\u001b[0m         \u001b[0mGeoDataFrame\u001b[0m\u001b[0;34m.\u001b[0m\u001b[0;34m\u001b[0m\u001b[0;34m\u001b[0m\u001b[0m\n\u001b[1;32m    454\u001b[0m         \"\"\"\n\u001b[0;32m--> 455\u001b[0;31m         \u001b[0mresult\u001b[0m \u001b[0;34m=\u001b[0m \u001b[0msuper\u001b[0m\u001b[0;34m(\u001b[0m\u001b[0mGeoDataFrame\u001b[0m\u001b[0;34m,\u001b[0m \u001b[0mself\u001b[0m\u001b[0;34m)\u001b[0m\u001b[0;34m.\u001b[0m\u001b[0m__getitem__\u001b[0m\u001b[0;34m(\u001b[0m\u001b[0mkey\u001b[0m\u001b[0;34m)\u001b[0m\u001b[0;34m\u001b[0m\u001b[0;34m\u001b[0m\u001b[0m\n\u001b[0m\u001b[1;32m    456\u001b[0m         \u001b[0mgeo_col\u001b[0m \u001b[0;34m=\u001b[0m \u001b[0mself\u001b[0m\u001b[0;34m.\u001b[0m\u001b[0m_geometry_column_name\u001b[0m\u001b[0;34m\u001b[0m\u001b[0;34m\u001b[0m\u001b[0m\n\u001b[1;32m    457\u001b[0m         \u001b[0;32mif\u001b[0m \u001b[0misinstance\u001b[0m\u001b[0;34m(\u001b[0m\u001b[0mkey\u001b[0m\u001b[0;34m,\u001b[0m \u001b[0mstring_types\u001b[0m\u001b[0;34m)\u001b[0m \u001b[0;32mand\u001b[0m \u001b[0mkey\u001b[0m \u001b[0;34m==\u001b[0m \u001b[0mgeo_col\u001b[0m\u001b[0;34m:\u001b[0m\u001b[0;34m\u001b[0m\u001b[0;34m\u001b[0m\u001b[0m\n",
      "\u001b[0;32m~/anaconda3/envs/module-06/lib/python3.7/site-packages/pandas/core/frame.py\u001b[0m in \u001b[0;36m__getitem__\u001b[0;34m(self, key)\u001b[0m\n\u001b[1;32m   2978\u001b[0m             \u001b[0;32mif\u001b[0m \u001b[0mself\u001b[0m\u001b[0;34m.\u001b[0m\u001b[0mcolumns\u001b[0m\u001b[0;34m.\u001b[0m\u001b[0mnlevels\u001b[0m \u001b[0;34m>\u001b[0m \u001b[0;36m1\u001b[0m\u001b[0;34m:\u001b[0m\u001b[0;34m\u001b[0m\u001b[0;34m\u001b[0m\u001b[0m\n\u001b[1;32m   2979\u001b[0m                 \u001b[0;32mreturn\u001b[0m \u001b[0mself\u001b[0m\u001b[0;34m.\u001b[0m\u001b[0m_getitem_multilevel\u001b[0m\u001b[0;34m(\u001b[0m\u001b[0mkey\u001b[0m\u001b[0;34m)\u001b[0m\u001b[0;34m\u001b[0m\u001b[0;34m\u001b[0m\u001b[0m\n\u001b[0;32m-> 2980\u001b[0;31m             \u001b[0mindexer\u001b[0m \u001b[0;34m=\u001b[0m \u001b[0mself\u001b[0m\u001b[0;34m.\u001b[0m\u001b[0mcolumns\u001b[0m\u001b[0;34m.\u001b[0m\u001b[0mget_loc\u001b[0m\u001b[0;34m(\u001b[0m\u001b[0mkey\u001b[0m\u001b[0;34m)\u001b[0m\u001b[0;34m\u001b[0m\u001b[0;34m\u001b[0m\u001b[0m\n\u001b[0m\u001b[1;32m   2981\u001b[0m             \u001b[0;32mif\u001b[0m \u001b[0mis_integer\u001b[0m\u001b[0;34m(\u001b[0m\u001b[0mindexer\u001b[0m\u001b[0;34m)\u001b[0m\u001b[0;34m:\u001b[0m\u001b[0;34m\u001b[0m\u001b[0;34m\u001b[0m\u001b[0m\n\u001b[1;32m   2982\u001b[0m                 \u001b[0mindexer\u001b[0m \u001b[0;34m=\u001b[0m \u001b[0;34m[\u001b[0m\u001b[0mindexer\u001b[0m\u001b[0;34m]\u001b[0m\u001b[0;34m\u001b[0m\u001b[0;34m\u001b[0m\u001b[0m\n",
      "\u001b[0;32m~/anaconda3/envs/module-06/lib/python3.7/site-packages/pandas/core/indexes/base.py\u001b[0m in \u001b[0;36mget_loc\u001b[0;34m(self, key, method, tolerance)\u001b[0m\n\u001b[1;32m   2897\u001b[0m                 \u001b[0;32mreturn\u001b[0m \u001b[0mself\u001b[0m\u001b[0;34m.\u001b[0m\u001b[0m_engine\u001b[0m\u001b[0;34m.\u001b[0m\u001b[0mget_loc\u001b[0m\u001b[0;34m(\u001b[0m\u001b[0mkey\u001b[0m\u001b[0;34m)\u001b[0m\u001b[0;34m\u001b[0m\u001b[0;34m\u001b[0m\u001b[0m\n\u001b[1;32m   2898\u001b[0m             \u001b[0;32mexcept\u001b[0m \u001b[0mKeyError\u001b[0m\u001b[0;34m:\u001b[0m\u001b[0;34m\u001b[0m\u001b[0;34m\u001b[0m\u001b[0m\n\u001b[0;32m-> 2899\u001b[0;31m                 \u001b[0;32mreturn\u001b[0m \u001b[0mself\u001b[0m\u001b[0;34m.\u001b[0m\u001b[0m_engine\u001b[0m\u001b[0;34m.\u001b[0m\u001b[0mget_loc\u001b[0m\u001b[0;34m(\u001b[0m\u001b[0mself\u001b[0m\u001b[0;34m.\u001b[0m\u001b[0m_maybe_cast_indexer\u001b[0m\u001b[0;34m(\u001b[0m\u001b[0mkey\u001b[0m\u001b[0;34m)\u001b[0m\u001b[0;34m)\u001b[0m\u001b[0;34m\u001b[0m\u001b[0;34m\u001b[0m\u001b[0m\n\u001b[0m\u001b[1;32m   2900\u001b[0m         \u001b[0mindexer\u001b[0m \u001b[0;34m=\u001b[0m \u001b[0mself\u001b[0m\u001b[0;34m.\u001b[0m\u001b[0mget_indexer\u001b[0m\u001b[0;34m(\u001b[0m\u001b[0;34m[\u001b[0m\u001b[0mkey\u001b[0m\u001b[0;34m]\u001b[0m\u001b[0;34m,\u001b[0m \u001b[0mmethod\u001b[0m\u001b[0;34m=\u001b[0m\u001b[0mmethod\u001b[0m\u001b[0;34m,\u001b[0m \u001b[0mtolerance\u001b[0m\u001b[0;34m=\u001b[0m\u001b[0mtolerance\u001b[0m\u001b[0;34m)\u001b[0m\u001b[0;34m\u001b[0m\u001b[0;34m\u001b[0m\u001b[0m\n\u001b[1;32m   2901\u001b[0m         \u001b[0;32mif\u001b[0m \u001b[0mindexer\u001b[0m\u001b[0;34m.\u001b[0m\u001b[0mndim\u001b[0m \u001b[0;34m>\u001b[0m \u001b[0;36m1\u001b[0m \u001b[0;32mor\u001b[0m \u001b[0mindexer\u001b[0m\u001b[0;34m.\u001b[0m\u001b[0msize\u001b[0m \u001b[0;34m>\u001b[0m \u001b[0;36m1\u001b[0m\u001b[0;34m:\u001b[0m\u001b[0;34m\u001b[0m\u001b[0;34m\u001b[0m\u001b[0m\n",
      "\u001b[0;32mpandas/_libs/index.pyx\u001b[0m in \u001b[0;36mpandas._libs.index.IndexEngine.get_loc\u001b[0;34m()\u001b[0m\n",
      "\u001b[0;32mpandas/_libs/index.pyx\u001b[0m in \u001b[0;36mpandas._libs.index.IndexEngine.get_loc\u001b[0;34m()\u001b[0m\n",
      "\u001b[0;32mpandas/_libs/hashtable_class_helper.pxi\u001b[0m in \u001b[0;36mpandas._libs.hashtable.PyObjectHashTable.get_item\u001b[0;34m()\u001b[0m\n",
      "\u001b[0;32mpandas/_libs/hashtable_class_helper.pxi\u001b[0m in \u001b[0;36mpandas._libs.hashtable.PyObjectHashTable.get_item\u001b[0;34m()\u001b[0m\n",
      "\u001b[0;31mKeyError\u001b[0m: 'counts'"
     ]
    },
    {
     "data": {
      "image/png": "[encoded data removed]",
      "text/plain": [
       "<Figure size 432x288 with 1 Axes>"
      ]
     },
     "metadata": {
      "needs_background": "light"
     },
     "output_type": "display_data"
    }
   ],
   "source": [
    "fig, ax = plt.subplots()\n",
    " \n",
    "base_color = 'white'\n",
    "border_color = base_color\n",
    "\n",
    "# layers to print\n",
    "pr.plot(ax=ax, edgecolor='black', column='counts', cmap = 'RdPu', alpha=1, legend = True, zorder=2);\n",
    "gdf.plot(ax=ax, markersize=1, alpha=1, color='black', zorder=3);  #low opacity adds a heatmap effect at this scale.\n",
    "\n",
    "# add title and labels\n",
    "ax.set(title=\"stop and frisks by Precinct\",\n",
    "       xlabel=\"X coordinates\",\n",
    "       ylabel=\"Y coordinates\") \n",
    "\n",
    "# reset bounds to match NYC data\n",
    "ax.set(xlim=(-74.3,-73.6), ylim=(40.25,41))"
   ]
  },
  {
   "cell_type": "markdown",
   "metadata": {},
   "source": [
    "quickly take a look at `pr` Precincts"
   ]
  },
  {
   "cell_type": "code",
   "execution_count": 45,
   "metadata": {},
   "outputs": [
    {
     "data": {
      "text/plain": [
       "(None,    precinct     shape_area     shape_leng  \\\n",
       " 0         1  47313318.0761  80563.0640816   \n",
       " 8        10  27267320.8712  40281.5273576   \n",
       " 57      100  205185208.374  283995.945115   \n",
       " 58      101  84672696.7164  78292.5824223   \n",
       " 59      102  133314470.842  52865.2810669   \n",
       " \n",
       "                                              geometry  counts_x  counts_y  \n",
       " 0   (POLYGON ((-74.0438776157395 40.69018767637665...        58        58  \n",
       " 8   (POLYGON ((-74.00138603698601 40.7628500950018...        79        79  \n",
       " 57  (POLYGON ((-73.83668274106707 40.5949466970158...        81        81  \n",
       " 58  (POLYGON ((-73.76669139771178 40.6142546554500...       103       103  \n",
       " 59  (POLYGON ((-73.81709738756589 40.7040298010850...       102       102  , str, '1')"
      ]
     },
     "execution_count": 45,
     "metadata": {},
     "output_type": "execute_result"
    }
   ],
   "source": [
    "#stacking these data inspection commands is possible using commas\n",
    "pr.sort_values(by=['precinct'],inplace = True),pr.head(),type(pr.precinct[0]),pr.precinct[0]"
   ]
  },
  {
   "cell_type": "code",
   "execution_count": 46,
   "metadata": {},
   "outputs": [
    {
     "data": {
      "text/plain": [
       "str"
      ]
     },
     "execution_count": 46,
     "metadata": {},
     "output_type": "execute_result"
    }
   ],
   "source": [
    "type(pr.precinct[0])"
   ]
  },
  {
   "cell_type": "markdown",
   "metadata": {},
   "source": [
    "#### Let's look at the busiest precinct.  If you remember from earlier, that was 106. "
   ]
  },
  {
   "cell_type": "code",
   "execution_count": 47,
   "metadata": {},
   "outputs": [],
   "source": [
    "# clip the precinct 106\n",
    "pr106 = pr.loc[pr['precinct'] == '106']"
   ]
  },
  {
   "cell_type": "code",
   "execution_count": 48,
   "metadata": {},
   "outputs": [
    {
     "data": {
      "text/plain": [
       "array(['MultiPolygon'], dtype=object)"
      ]
     },
     "execution_count": 48,
     "metadata": {},
     "output_type": "execute_result"
    }
   ],
   "source": [
    "# check geometry\n",
    "pr106.geom_type.unique()"
   ]
  },
  {
   "cell_type": "code",
   "execution_count": 49,
   "metadata": {},
   "outputs": [
    {
     "data": {
      "text/html": [
       "<div>\n",
       "<style scoped>\n",
       "    .dataframe tbody tr th:only-of-type {\n",
       "        vertical-align: middle;\n",
       "    }\n",
       "\n",
       "    .dataframe tbody tr th {\n",
       "        vertical-align: top;\n",
       "    }\n",
       "\n",
       "    .dataframe thead th {\n",
       "        text-align: right;\n",
       "    }\n",
       "</style>\n",
       "<table border=\"1\" class=\"dataframe\">\n",
       "  <thead>\n",
       "    <tr style=\"text-align: right;\">\n",
       "      <th></th>\n",
       "      <th>minx</th>\n",
       "      <th>miny</th>\n",
       "      <th>maxx</th>\n",
       "      <th>maxy</th>\n",
       "    </tr>\n",
       "  </thead>\n",
       "  <tbody>\n",
       "    <tr>\n",
       "      <td>63</td>\n",
       "      <td>-73.863171</td>\n",
       "      <td>40.644134</td>\n",
       "      <td>-73.801179</td>\n",
       "      <td>40.691947</td>\n",
       "    </tr>\n",
       "  </tbody>\n",
       "</table>\n",
       "</div>"
      ],
      "text/plain": [
       "         minx       miny       maxx       maxy\n",
       "63 -73.863171  40.644134 -73.801179  40.691947"
      ]
     },
     "execution_count": 49,
     "metadata": {},
     "output_type": "execute_result"
    }
   ],
   "source": [
    "# check bounding box of precinct 106\n",
    "pr106.bounds"
   ]
  },
  {
   "cell_type": "code",
   "execution_count": 50,
   "metadata": {},
   "outputs": [
    {
     "data": {
      "text/plain": [
       "[(40.64, 40.69), (-73.86, -73.8)]"
      ]
     },
     "execution_count": 50,
     "metadata": {},
     "output_type": "execute_result"
    },
    {
     "data": {
      "image/png": "[encoded data removed]",
      "text/plain": [
       "<Figure size 432x288 with 1 Axes>"
      ]
     },
     "metadata": {
      "needs_background": "light"
     },
     "output_type": "display_data"
    }
   ],
   "source": [
    "# Plot these using the following technique, creating subplots assigned to the fig and ax variables, \n",
    "# setting a couple default variables for the colors, \n",
    "# and plotting a background using the bounding box and the world countries from Natural Earth.\n",
    "fig, ax = plt.subplots()\n",
    " \n",
    "base_color = '#f0f0f0'\n",
    "border_color = base_color\n",
    " \n",
    "pr106.plot(ax=ax, color='white', edgecolor='black', zorder=0)\n",
    "gdf.plot(ax=ax, color='black', alpha=0.1, zorder=6);\n",
    "\n",
    "\n",
    "ax.set(title=\"precinct 106 Stop and Frisks\",\n",
    "       xlabel=\"Longitude\",\n",
    "       ylabel=\"Latitude\")\n",
    "\n",
    "# reset bounds to match precinct 106 bounds\n",
    "ax.set(xlim=(-73.86,-73.8), ylim=(40.64,40.69))"
   ]
  },
  {
   "cell_type": "markdown",
   "metadata": {},
   "source": [
    "##### export the stop/frisk data as webmap ready GEOJSON"
   ]
  },
  {
   "cell_type": "code",
   "execution_count": 51,
   "metadata": {},
   "outputs": [],
   "source": [
    "#export as geojson \n",
    "### throws an error unless file is deleted prior\n",
    "gdf.to_file(r'./data/2016stops.geojson', driver=\"GeoJSON\")"
   ]
  },
  {
   "cell_type": "code",
   "execution_count": 52,
   "metadata": {},
   "outputs": [
    {
     "name": "stdout",
     "output_type": "stream",
     "text": [
      "2016stops.geojson\n",
      "sqf-2016.csv\n",
      "2016stops.json\n",
      "nypd-precincts.geojson\n"
     ]
    }
   ],
   "source": [
    "#double check the data, for ASMR purposes alone\n",
    "for root, dirs, files in os.walk('./data/'):\n",
    "    for filename in files:\n",
    "        print(filename)"
   ]
  },
  {
   "cell_type": "markdown",
   "metadata": {},
   "source": [
    "#### Finally! export the notebook as an HTML file for easy webviewing"
   ]
  },
  {
   "cell_type": "code",
   "execution_count": 53,
   "metadata": {},
   "outputs": [
    {
     "name": "stdout",
     "output_type": "stream",
     "text": [
      "[NbConvertApp] Converting notebook rakatk0-python-pandas-geopandas-101.ipynb to html\n",
      "[NbConvertApp] Writing 458862 bytes to rakatk0-python-pandas-geopandas-101.html\n"
     ]
    }
   ],
   "source": [
    "!jupyter nbconvert --to html rakatk0-python-pandas-geopandas-101.ipynb"
   ]
  }
 ],
 "metadata": {
  "kernelspec": {
   "display_name": "Python 3",
   "language": "python",
   "name": "python3"
  },
  "language_info": {
   "codemirror_mode": {
    "name": "ipython",
    "version": 3
   },
   "file_extension": ".py",
   "mimetype": "text/x-python",
   "name": "python",
   "nbconvert_exporter": "python",
   "pygments_lexer": "ipython3",
   "version": "3.7.4"
  }
 },
 "nbformat": 4,
 "nbformat_minor": 2
}
